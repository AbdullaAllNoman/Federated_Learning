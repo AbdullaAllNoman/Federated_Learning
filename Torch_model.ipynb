{
 "cells": [
  {
   "cell_type": "code",
   "execution_count": 75,
   "id": "38187e3c",
   "metadata": {},
   "outputs": [],
   "source": [
    "import numpy as np\n",
    "import pandas as pd\n",
    "from sklearn import tree\n",
    "from sklearn.metrics import accuracy_score\n",
    "from sklearn.ensemble import RandomForestClassifier\n",
    "import random\n",
    "import math\n",
    "from torch.utils.tensorboard import SummaryWriter\n",
    "from matplotlib import pyplot\n",
    "from pathlib import Path\n",
    "import requests\n",
    "import pickle\n",
    "import gzip\n",
    "import torch\n",
    "import math\n",
    "import torch.nn.functional as F\n",
    "from torch import nn\n",
    "from torch import optim\n",
    "import torchvision\n",
    "import torchvision.transforms as transforms\n",
    "from torch.utils.data import TensorDataset\n",
    "from torch.utils.data import DataLoader\n",
    "from keras.datasets import mnist\n",
    "import numpy as np \n",
    "import pandas as pd\n",
    "import matplotlib.pylab as plt\n",
    "\n",
    "import sklearn as sk\n",
    "from sklearn.model_selection import train_test_split\n",
    "from sklearn.metrics import accuracy_score"
   ]
  },
  {
   "cell_type": "code",
   "execution_count": 76,
   "id": "918ad204",
   "metadata": {},
   "outputs": [],
   "source": [
    "import tensorflow as tf\n",
    "import glob\n",
    "covid = glob.glob('Dataset0.1/training/covid/*.*')\n",
    "normal = glob.glob('Dataset0.1/training/normal/*.*')\n",
    "pneumonia = glob.glob('Dataset0.1/training/pneumonia/*.*')\n",
    "tuberculosis = glob.glob('Dataset0.1/training/tuberculosis/*.*')\n",
    "\n",
    "data = []\n",
    "labels = []\n",
    "\n",
    "for i in covid:   \n",
    "    image=tf.keras.preprocessing.image.load_img(i, color_mode='grayscale', \n",
    "    target_size= (150,150))\n",
    "    image=np.array(image)\n",
    "    data.append(image)\n",
    "    labels.append(0)\n",
    "for i in normal:   \n",
    "    image=tf.keras.preprocessing.image.load_img(i, color_mode='grayscale', \n",
    "    target_size= (150,150))\n",
    "    image=np.array(image)\n",
    "    data.append(image)\n",
    "    labels.append(1)\n",
    "for i in pneumonia:   \n",
    "    image=tf.keras.preprocessing.image.load_img(i, color_mode='grayscale', \n",
    "    target_size= (150,150))\n",
    "    image=np.array(image)\n",
    "    data.append(image)\n",
    "    labels.append(2)\n",
    "for i in tuberculosis:   \n",
    "    image=tf.keras.preprocessing.image.load_img(i, color_mode='grayscale', \n",
    "    target_size= (150,150))\n",
    "    image=np.array(image)\n",
    "    data.append(image)\n",
    "    labels.append(3)\n",
    "\n",
    "data = np.array(data)\n",
    "labels = np.array(labels)"
   ]
  },
  {
   "cell_type": "code",
   "execution_count": 77,
   "id": "fb60c85c",
   "metadata": {},
   "outputs": [],
   "source": [
    "from sklearn.model_selection import train_test_split\n",
    "X_train, x_test, Y_train, y_test = train_test_split(data, labels, test_size=0.2,\n",
    "                                                random_state=42)"
   ]
  },
  {
   "cell_type": "code",
   "execution_count": 78,
   "id": "e68667ae",
   "metadata": {},
   "outputs": [
    {
     "data": {
      "text/plain": [
       "(720, 150, 150)"
      ]
     },
     "execution_count": 78,
     "metadata": {},
     "output_type": "execute_result"
    }
   ],
   "source": [
    "x_test.shape"
   ]
  },
  {
   "cell_type": "code",
   "execution_count": 79,
   "id": "56d63a27",
   "metadata": {},
   "outputs": [],
   "source": [
    "x_train, x_valid, y_train, y_valid = train_test_split(X_train, Y_train, \n",
    "    test_size=0.25, random_state= 42)"
   ]
  },
  {
   "cell_type": "code",
   "execution_count": 80,
   "id": "f6087710",
   "metadata": {},
   "outputs": [
    {
     "data": {
      "text/plain": [
       "(720, 150, 150)"
      ]
     },
     "execution_count": 80,
     "metadata": {},
     "output_type": "execute_result"
    }
   ],
   "source": [
    "x_valid.shape"
   ]
  },
  {
   "cell_type": "code",
   "execution_count": 81,
   "id": "164d0195",
   "metadata": {},
   "outputs": [
    {
     "name": "stdout",
     "output_type": "stream",
     "text": [
      "22500\n"
     ]
    }
   ],
   "source": [
    "image_size = x_train.shape[1]\n",
    "input_size = image_size * image_size\n",
    "print(input_size)"
   ]
  },
  {
   "cell_type": "code",
   "execution_count": 82,
   "id": "9b75891c",
   "metadata": {},
   "outputs": [],
   "source": [
    "x_train = np.reshape(x_train, [-1, input_size])\n",
    "x_train = x_train.astype('float32') / 255\n",
    "x_valid = np.reshape(x_valid, [-1, input_size])\n",
    "x_valid = x_valid.astype('float32') / 255\n",
    "x_test = np.reshape(x_test, [-1, input_size])\n",
    "x_test = x_test.astype('float32') / 255"
   ]
  },
  {
   "cell_type": "code",
   "execution_count": 83,
   "id": "2853dc8f",
   "metadata": {},
   "outputs": [
    {
     "data": {
      "text/plain": [
       "((2160, 22500), (2160,), (720, 22500), (720,), (720, 22500), (720,))"
      ]
     },
     "execution_count": 83,
     "metadata": {},
     "output_type": "execute_result"
    }
   ],
   "source": [
    "x_train.shape, y_train.shape , x_valid.shape, y_valid.shape, x_test.shape, y_test.shape"
   ]
  },
  {
   "cell_type": "code",
   "execution_count": 84,
   "id": "54854131",
   "metadata": {},
   "outputs": [],
   "source": [
    "x_valid = torch.from_numpy(x_valid)"
   ]
  },
  {
   "cell_type": "code",
   "execution_count": 85,
   "id": "29b0596e",
   "metadata": {},
   "outputs": [],
   "source": [
    "y_valid = torch.from_numpy(y_valid)"
   ]
  },
  {
   "cell_type": "code",
   "execution_count": 97,
   "id": "017b444b",
   "metadata": {},
   "outputs": [],
   "source": [
    "x_train = torch.from_numpy(x_train)\n",
    "y_train = torch.from_numpy(y_train)\n",
    "x_test = torch.from_numpy(x_test)\n",
    "y_test = torch.from_numpy(y_test)"
   ]
  },
  {
   "cell_type": "code",
   "execution_count": 98,
   "id": "13b5bcc9",
   "metadata": {},
   "outputs": [
    {
     "name": "stdout",
     "output_type": "stream",
     "text": [
      "<class 'torch.Tensor'>\n",
      "<class 'torch.Tensor'>\n"
     ]
    }
   ],
   "source": [
    "print(type(x_train))\n",
    "print(type(x_valid))"
   ]
  },
  {
   "cell_type": "code",
   "execution_count": 99,
   "id": "c75c566a",
   "metadata": {},
   "outputs": [
    {
     "name": "stdout",
     "output_type": "stream",
     "text": [
      "0 >> train: tensor(581) , valid: tensor(198) , test: tensor(221) , total: tensor(1000)\n",
      "1 >> train: tensor(590) , valid: tensor(216) , test: tensor(194) , total: tensor(1000)\n",
      "2 >> train: tensor(490) , valid: tensor(153) , test: tensor(157) , total: tensor(800)\n",
      "3 >> train: tensor(499) , valid: tensor(153) , test: tensor(148) , total: tensor(800)\n",
      "y_train_total= tensor(2160)\n",
      "y_valid_total= tensor(720)\n",
      "y_test_total= tensor(720)\n",
      "total= tensor(3600)\n"
     ]
    }
   ],
   "source": [
    "# Let's check how many of each tag are.\n",
    "y_train_total=0\n",
    "y_valid_total=0\n",
    "y_test_total=0\n",
    "total=0\n",
    "for i in range(4):\n",
    "    print(i,\">> train:\", sum(y_train==i), \", valid:\", sum(y_valid==i), \n",
    "          \", test:\", sum(y_test==i), \", total:\", sum(y_train==i)+sum(y_valid==i)+sum(y_test==i) )\n",
    "    y_train_total=y_train_total + sum(y_train==i)\n",
    "    y_valid_total=y_valid_total + sum(y_valid==i)\n",
    "    y_test_total=y_test_total + sum(y_test==i)\n",
    "    total=total+sum(y_train==i)+sum(y_valid==i)+sum(y_test==i)\n",
    "    \n",
    "print(\"y_train_total=\", y_train_total) \n",
    "print(\"y_valid_total=\", y_valid_total) \n",
    "print(\"y_test_total=\", y_test_total)\n",
    "print(\"total=\", total)"
   ]
  },
  {
   "cell_type": "code",
   "execution_count": 100,
   "id": "f67eea52",
   "metadata": {},
   "outputs": [],
   "source": [
    "class Net2nn(nn.Module):\n",
    "    def __init__(self,n_features):\n",
    "        super(Net2nn, self).__init__()\n",
    "        self.fc1=nn.Linear(n_features,2048)\n",
    "        self.fc2=nn.Linear(2048,512)\n",
    "        self.fc3=nn.Linear(512,128)\n",
    "        self.fc4=nn.Linear(128,32)\n",
    "        self.fc5=nn.Linear(32,4)\n",
    "        #self.fc6=nn.Linear(128,64)\n",
    "        #self.fc7=nn.Linear(64,4)\n",
    "        \n",
    "    def forward(self,x):\n",
    "        x=F.relu(self.fc1(x))\n",
    "        x=F.relu(self.fc2(x))\n",
    "        x=F.relu(self.fc3(x))\n",
    "        x=F.relu(self.fc4(x))\n",
    "        #x=F.relu(self.fc5(x))\n",
    "        #x=F.relu(self.fc6(x))\n",
    "        x=self.fc5(x)\n",
    "        return x"
   ]
  },
  {
   "cell_type": "code",
   "execution_count": 101,
   "id": "cd1f3913",
   "metadata": {},
   "outputs": [
    {
     "name": "stdout",
     "output_type": "stream",
     "text": [
      "torch.Size([2160, 22500]) torch.Size([2160])\n",
      "torch.Size([720, 22500]) torch.Size([720])\n",
      "torch.Size([720, 22500]) torch.Size([720])\n"
     ]
    }
   ],
   "source": [
    "print(x_train.shape, y_train.shape)\n",
    "print(x_test.shape, y_test.shape)\n",
    "print(x_valid.shape, y_valid.shape)"
   ]
  },
  {
   "cell_type": "code",
   "execution_count": 102,
   "id": "d82f0a4d",
   "metadata": {},
   "outputs": [],
   "source": [
    "centralized_model = Net2nn(x_train.shape[1])"
   ]
  },
  {
   "cell_type": "code",
   "execution_count": 103,
   "id": "724db2d7",
   "metadata": {},
   "outputs": [
    {
     "data": {
      "text/plain": [
       "Net2nn(\n",
       "  (fc1): Linear(in_features=22500, out_features=2048, bias=True)\n",
       "  (fc2): Linear(in_features=2048, out_features=512, bias=True)\n",
       "  (fc3): Linear(in_features=512, out_features=128, bias=True)\n",
       "  (fc4): Linear(in_features=128, out_features=32, bias=True)\n",
       "  (fc5): Linear(in_features=32, out_features=4, bias=True)\n",
       ")"
      ]
     },
     "execution_count": 103,
     "metadata": {},
     "output_type": "execute_result"
    }
   ],
   "source": [
    "centralized_model.eval()"
   ]
  },
  {
   "cell_type": "code",
   "execution_count": 104,
   "id": "3dda1355",
   "metadata": {},
   "outputs": [],
   "source": [
    "centralized_optimizer = torch.optim.SGD(centralized_model.parameters(), lr=0.0005, momentum=0.9)\n",
    "centralized_criterion = nn.CrossEntropyLoss()\n",
    "#centralized_criterion = nn.BCEWithLogitsLoss"
   ]
  },
  {
   "cell_type": "code",
   "execution_count": 105,
   "id": "8a03b943",
   "metadata": {},
   "outputs": [],
   "source": [
    "import torch\n",
    "from torch import nn, optim\n",
    "import torch.nn.functional as F"
   ]
  },
  {
   "cell_type": "code",
   "execution_count": 106,
   "id": "d3141ad1",
   "metadata": {},
   "outputs": [],
   "source": [
    "#x_train = torch.from_numpy(x_train).float()\n",
    "#y_train = torch.squeeze(torch.from_numpy(y_train).float())\n",
    "#x_test = torch.from_numpy(x_test).float()\n",
    "#y_test = torch.squeeze(torch.from_numpy(y_test).float())\n",
    "#x_valid = torch.from_numpy(x_valid).float()\n",
    "#y_valid = torch.squeeze(torch.from_numpy(y_valid).float())"
   ]
  },
  {
   "cell_type": "code",
   "execution_count": 107,
   "id": "9f61f9c0",
   "metadata": {},
   "outputs": [
    {
     "data": {
      "text/plain": [
       "device(type='cuda', index=0)"
      ]
     },
     "execution_count": 107,
     "metadata": {},
     "output_type": "execute_result"
    }
   ],
   "source": [
    "device = torch.device(\"cuda:0\" if torch.cuda.is_available() else \"cpu\")\n",
    "device"
   ]
  },
  {
   "cell_type": "code",
   "execution_count": 108,
   "id": "7e406dfe",
   "metadata": {},
   "outputs": [],
   "source": [
    "x_train = x_train.to(device)\n",
    "y_train = y_train.to(device)\n",
    "x_test = x_test.to(device)\n",
    "y_test = y_test.to(device)\n",
    "x_valid = x_valid.to(device)\n",
    "y_valid = y_valid.to(device)\n",
    "\n",
    "centralized_model = centralized_model.to(device)\n",
    "centralized_criterion = centralized_criterion.to(device)"
   ]
  },
  {
   "cell_type": "code",
   "execution_count": 109,
   "id": "cf664a66",
   "metadata": {},
   "outputs": [],
   "source": [
    "def train(model, train_loader, criterion, optimizer):\n",
    "    model.train()\n",
    "    train_loss = 0.0\n",
    "    correct = 0\n",
    "\n",
    "    for data, target in train_loader:\n",
    "        output = model(data)\n",
    "        loss = criterion(output, target.long())\n",
    "        optimizer.zero_grad()\n",
    "        loss.backward()\n",
    "        optimizer.step()\n",
    "        \n",
    "        train_loss += loss.item()\n",
    "        prediction = output.argmax(dim=1, keepdim=True)\n",
    "        correct += prediction.eq(target.view_as(prediction)).sum().item()\n",
    "        \n",
    "\n",
    "    return train_loss / len(train_loader), correct/len(train_loader.dataset)"
   ]
  },
  {
   "cell_type": "code",
   "execution_count": 110,
   "id": "9308499a",
   "metadata": {},
   "outputs": [],
   "source": [
    "def validation(model, test_loader, criterion):\n",
    "    model.eval()\n",
    "    test_loss = 0.0\n",
    "    correct = 0\n",
    "    with torch.no_grad():\n",
    "        for data, target in test_loader:\n",
    "            output = model(data)\n",
    "            \n",
    "            test_loss += criterion(output, target.long()).item()\n",
    "            prediction = output.argmax(dim=1, keepdim=True)\n",
    "            correct += prediction.eq(target.view_as(prediction)).sum().item()\n",
    "\n",
    "    test_loss /= len(test_loader)\n",
    "    correct /= len(test_loader.dataset)\n",
    "\n",
    "    return (test_loss, correct)"
   ]
  },
  {
   "cell_type": "code",
   "execution_count": 111,
   "id": "135ccf99",
   "metadata": {},
   "outputs": [],
   "source": [
    "batch_size = 32\n",
    "numEpoch = 50\n",
    "\n",
    "train_ds = TensorDataset(x_train, y_train)\n",
    "train_dl = DataLoader(train_ds, batch_size=batch_size, shuffle=True)\n",
    "\n",
    "valid_ds = TensorDataset(x_valid, y_valid)\n",
    "valid_dl = DataLoader(valid_ds, batch_size=batch_size * 2)\n",
    "\n",
    "test_ds = TensorDataset(x_test, y_test)\n",
    "test_dl = DataLoader(test_ds, batch_size=batch_size * 2)"
   ]
  },
  {
   "cell_type": "code",
   "execution_count": 112,
   "id": "35e3401d",
   "metadata": {},
   "outputs": [
    {
     "name": "stdout",
     "output_type": "stream",
     "text": [
      "------ Centralized Model ------\n",
      "epoch:   1 | train accuracy:  0.3319 | test accuracy:  0.3875\n",
      "epoch:   2 | train accuracy:  0.3741 | test accuracy:  0.3833\n",
      "epoch:   3 | train accuracy:  0.3745 | test accuracy:  0.3986\n",
      "epoch:   4 | train accuracy:  0.3968 | test accuracy:  0.4472\n",
      "epoch:   5 | train accuracy:  0.4421 | test accuracy:  0.5111\n",
      "epoch:   6 | train accuracy:  0.4606 | test accuracy:  0.5167\n",
      "epoch:   7 | train accuracy:  0.4907 | test accuracy:  0.5208\n",
      "epoch:   8 | train accuracy:  0.5435 | test accuracy:  0.5972\n",
      "epoch:   9 | train accuracy:  0.6162 | test accuracy:  0.6194\n",
      "epoch:  10 | train accuracy:  0.6653 | test accuracy:  0.6583\n",
      "epoch:  11 | train accuracy:  0.6736 | test accuracy:  0.6653\n",
      "epoch:  12 | train accuracy:  0.6995 | test accuracy:  0.6472\n",
      "epoch:  13 | train accuracy:  0.7185 | test accuracy:  0.7000\n",
      "epoch:  14 | train accuracy:  0.7389 | test accuracy:  0.7181\n",
      "epoch:  15 | train accuracy:  0.7481 | test accuracy:  0.7208\n",
      "epoch:  16 | train accuracy:  0.7579 | test accuracy:  0.7181\n",
      "epoch:  17 | train accuracy:  0.7579 | test accuracy:  0.7375\n",
      "epoch:  18 | train accuracy:  0.7616 | test accuracy:  0.7333\n",
      "epoch:  19 | train accuracy:  0.7657 | test accuracy:  0.7208\n",
      "epoch:  20 | train accuracy:  0.7764 | test accuracy:  0.7403\n",
      "epoch:  21 | train accuracy:  0.7741 | test accuracy:  0.7125\n",
      "epoch:  22 | train accuracy:  0.7796 | test accuracy:  0.7486\n",
      "epoch:  23 | train accuracy:  0.7912 | test accuracy:  0.7444\n",
      "epoch:  24 | train accuracy:  0.7884 | test accuracy:  0.7514\n",
      "epoch:  25 | train accuracy:  0.7861 | test accuracy:  0.7444\n",
      "epoch:  26 | train accuracy:  0.7940 | test accuracy:  0.7625\n",
      "epoch:  27 | train accuracy:  0.7949 | test accuracy:  0.7667\n",
      "epoch:  28 | train accuracy:  0.8106 | test accuracy:  0.7667\n",
      "epoch:  29 | train accuracy:  0.8005 | test accuracy:  0.7681\n",
      "epoch:  30 | train accuracy:  0.8056 | test accuracy:  0.7611\n",
      "epoch:  31 | train accuracy:  0.8167 | test accuracy:  0.7806\n",
      "epoch:  32 | train accuracy:  0.8130 | test accuracy:  0.7458\n",
      "epoch:  33 | train accuracy:  0.8106 | test accuracy:  0.7708\n",
      "epoch:  34 | train accuracy:  0.8144 | test accuracy:  0.7778\n",
      "epoch:  35 | train accuracy:  0.8153 | test accuracy:  0.7500\n",
      "epoch:  36 | train accuracy:  0.8171 | test accuracy:  0.7819\n",
      "epoch:  37 | train accuracy:  0.8213 | test accuracy:  0.7139\n",
      "epoch:  38 | train accuracy:  0.7995 | test accuracy:  0.7958\n",
      "epoch:  39 | train accuracy:  0.8319 | test accuracy:  0.7931\n",
      "epoch:  40 | train accuracy:  0.8236 | test accuracy:  0.7889\n",
      "epoch:  41 | train accuracy:  0.8366 | test accuracy:  0.7931\n",
      "epoch:  42 | train accuracy:  0.8421 | test accuracy:  0.7958\n",
      "epoch:  43 | train accuracy:  0.8324 | test accuracy:  0.8056\n",
      "epoch:  44 | train accuracy:  0.8426 | test accuracy:  0.8069\n",
      "epoch:  45 | train accuracy:  0.8463 | test accuracy:  0.8097\n",
      "epoch:  46 | train accuracy:  0.8431 | test accuracy:  0.7889\n",
      "epoch:  47 | train accuracy:  0.8477 | test accuracy:  0.7847\n",
      "epoch:  48 | train accuracy:  0.8319 | test accuracy:  0.8069\n",
      "epoch:  49 | train accuracy:  0.8514 | test accuracy:  0.8083\n",
      "epoch:  50 | train accuracy:  0.8537 | test accuracy:  0.8139\n",
      "------ Training finished ------\n"
     ]
    }
   ],
   "source": [
    "print(\"------ Centralized Model ------\")\n",
    "for epoch in range(numEpoch):\n",
    "    central_train_loss, central_train_accuracy = train(centralized_model, train_dl, centralized_criterion, centralized_optimizer)\n",
    "    central_test_loss, central_test_accuracy = validation(centralized_model, test_dl, centralized_criterion)\n",
    "    \n",
    "    print(\"epoch: {:3.0f}\".format(epoch+1) + \" | train accuracy: {:7.4f}\".format(central_train_accuracy) + \" | test accuracy: {:7.4f}\".format(central_test_accuracy))\n",
    "\n",
    "print(\"------ Training finished ------\")"
   ]
  },
  {
   "cell_type": "code",
   "execution_count": null,
   "id": "eb50271a",
   "metadata": {},
   "outputs": [],
   "source": []
  },
  {
   "cell_type": "code",
   "execution_count": 113,
   "id": "2c7264e4",
   "metadata": {},
   "outputs": [
    {
     "data": {
      "image/png": "[encoded data removed]",
      "text/plain": [
       "<Figure size 864x504 with 2 Axes>"
      ]
     },
     "metadata": {
      "needs_background": "light"
     },
     "output_type": "display_data"
    }
   ],
   "source": [
    "from sklearn.metrics import confusion_matrix\n",
    "import seaborn as sn\n",
    "import pandas as pd\n",
    "\n",
    "y_pred = []\n",
    "y_true = []\n",
    "\n",
    "# iterate over test data\n",
    "for inputs, labels in test_dl:\n",
    "        output = centralized_model(inputs) # Feed Network\n",
    "\n",
    "        output = (torch.max(torch.exp(output), 1)[1]).data.cpu().numpy()\n",
    "        y_pred.extend(output) # Save Prediction\n",
    "        \n",
    "        labels = labels.data.cpu().numpy()\n",
    "        y_true.extend(labels) # Save Truth\n",
    "\n",
    "# constant for classes\n",
    "classes = ('c', 'n', 'p', 'tb')\n",
    "\n",
    "# Build confusion matrix\n",
    "cf_matrix = confusion_matrix(y_true, y_pred)\n",
    "df_cm = pd.DataFrame(cf_matrix/np.sum(cf_matrix)*720, index = [i for i in classes],\n",
    "                     columns = [i for i in classes])\n",
    "plt.figure(figsize = (12,7))\n",
    "sn.heatmap(df_cm, annot=True)\n",
    "plt.savefig('output.png')"
   ]
  },
  {
   "cell_type": "code",
   "execution_count": 132,
   "id": "3d0da416",
   "metadata": {},
   "outputs": [],
   "source": [
    "# pytorch mlp for binary classification\n",
    "from numpy import vstack\n",
    "from pandas import read_csv\n",
    "from sklearn.preprocessing import LabelEncoder\n",
    "from sklearn.metrics import accuracy_score\n",
    "from torch.utils.data import Dataset\n",
    "from torch.utils.data import DataLoader\n",
    "from torch.utils.data import random_split\n",
    "from torch import Tensor\n",
    "from torch.nn import Linear\n",
    "from torch.nn import ReLU\n",
    "from torch.nn import Sigmoid\n",
    "from torch.nn import Module\n",
    "from torch.optim import SGD\n",
    "from torch.nn import BCELoss\n",
    "from torch.nn.init import kaiming_uniform_\n",
    "from torch.nn.init import xavier_uniform_"
   ]
  },
  {
   "cell_type": "code",
   "execution_count": 135,
   "id": "12772ac9",
   "metadata": {},
   "outputs": [],
   "source": [
    "# evaluate the model\n",
    "def evaluate_model(test_dl, model):\n",
    "    predictions, actuals = list(), list()\n",
    "    for i, (inputs, targets) in enumerate(test_dl):\n",
    "        # evaluate the model on the test set\n",
    "        yhat = model(inputs)\n",
    "        # retrieve numpy array\n",
    "        yhat = yhat.detach().numpy()\n",
    "        \n",
    "        #yhat = yhat.cpu().data.numpy().argmax()\n",
    "        actual = targets.numpy()\n",
    "        actual = actual.reshape((len(actual), 1))\n",
    "        # round to class values\n",
    "        yhat = yhat.round()\n",
    "        # store\n",
    "        predictions.append(yhat)\n",
    "        actuals.append(actual)\n",
    "    predictions, actuals = vstack(predictions), vstack(actuals)\n",
    "    # calculate accuracy\n",
    "    acc = accuracy_score(actuals, predictions)\n",
    "    return acc"
   ]
  },
  {
   "cell_type": "code",
   "execution_count": 136,
   "id": "b43130dc",
   "metadata": {},
   "outputs": [
    {
     "ename": "TypeError",
     "evalue": "can't convert cuda:0 device type tensor to numpy. Use Tensor.cpu() to copy the tensor to host memory first.",
     "output_type": "error",
     "traceback": [
      "\u001b[1;31m---------------------------------------------------------------------------\u001b[0m",
      "\u001b[1;31mTypeError\u001b[0m                                 Traceback (most recent call last)",
      "\u001b[1;32m<ipython-input-136-1f5a715c4d63>\u001b[0m in \u001b[0;36m<module>\u001b[1;34m\u001b[0m\n\u001b[1;32m----> 1\u001b[1;33m \u001b[0mevaluate_model\u001b[0m\u001b[1;33m(\u001b[0m\u001b[0mtest_dl\u001b[0m\u001b[1;33m,\u001b[0m \u001b[0mcentralized_model\u001b[0m\u001b[1;33m)\u001b[0m\u001b[1;33m\u001b[0m\u001b[1;33m\u001b[0m\u001b[0m\n\u001b[0m",
      "\u001b[1;32m<ipython-input-135-ad1a67465e9f>\u001b[0m in \u001b[0;36mevaluate_model\u001b[1;34m(test_dl, model)\u001b[0m\n\u001b[0;32m      6\u001b[0m         \u001b[0myhat\u001b[0m \u001b[1;33m=\u001b[0m \u001b[0mmodel\u001b[0m\u001b[1;33m(\u001b[0m\u001b[0minputs\u001b[0m\u001b[1;33m)\u001b[0m\u001b[1;33m\u001b[0m\u001b[1;33m\u001b[0m\u001b[0m\n\u001b[0;32m      7\u001b[0m         \u001b[1;31m# retrieve numpy array\u001b[0m\u001b[1;33m\u001b[0m\u001b[1;33m\u001b[0m\u001b[1;33m\u001b[0m\u001b[0m\n\u001b[1;32m----> 8\u001b[1;33m         \u001b[0myhat\u001b[0m \u001b[1;33m=\u001b[0m \u001b[0myhat\u001b[0m\u001b[1;33m.\u001b[0m\u001b[0mdetach\u001b[0m\u001b[1;33m(\u001b[0m\u001b[1;33m)\u001b[0m\u001b[1;33m.\u001b[0m\u001b[0mnumpy\u001b[0m\u001b[1;33m(\u001b[0m\u001b[1;33m)\u001b[0m\u001b[1;33m\u001b[0m\u001b[1;33m\u001b[0m\u001b[0m\n\u001b[0m\u001b[0;32m      9\u001b[0m \u001b[1;33m\u001b[0m\u001b[0m\n\u001b[0;32m     10\u001b[0m         \u001b[1;31m#yhat = yhat.cpu().data.numpy().argmax()\u001b[0m\u001b[1;33m\u001b[0m\u001b[1;33m\u001b[0m\u001b[1;33m\u001b[0m\u001b[0m\n",
      "\u001b[1;31mTypeError\u001b[0m: can't convert cuda:0 device type tensor to numpy. Use Tensor.cpu() to copy the tensor to host memory first."
     ]
    }
   ],
   "source": [
    "evaluate_model(test_dl, centralized_model)"
   ]
  },
  {
   "cell_type": "code",
   "execution_count": null,
   "id": "81a15ad9",
   "metadata": {},
   "outputs": [],
   "source": []
  },
  {
   "cell_type": "code",
   "execution_count": null,
   "id": "485b2d3e",
   "metadata": {},
   "outputs": [],
   "source": []
  }
 ],
 "metadata": {
  "kernelspec": {
   "display_name": "Python 3",
   "language": "python",
   "name": "python3"
  },
  "language_info": {
   "codemirror_mode": {
    "name": "ipython",
    "version": 3
   },
   "file_extension": ".py",
   "mimetype": "text/x-python",
   "name": "python",
   "nbconvert_exporter": "python",
   "pygments_lexer": "ipython3",
   "version": "3.6.12"
  }
 },
 "nbformat": 4,
 "nbformat_minor": 5
}
