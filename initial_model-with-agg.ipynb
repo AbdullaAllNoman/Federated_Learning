{
 "cells": [
  {
   "cell_type": "code",
   "execution_count": 2,
   "id": "digital-rough",
   "metadata": {},
   "outputs": [
    {
     "name": "stderr",
     "output_type": "stream",
     "text": [
      "C:\\Users\\Hp\\anaconda3\\envs\\Project2\\lib\\site-packages\\tensorflow_addons\\utils\\ensure_tf_install.py:68: UserWarning: Tensorflow Addons supports using Python ops for all Tensorflow versions above or equal to 2.2.0 and strictly below 2.4.0 (nightly versions are not supported). \n",
      " The versions of TensorFlow you are currently using is 2.6.2 and is not supported. \n",
      "Some things might work, some things might not.\n",
      "If you were to encounter a bug, do not file an issue.\n",
      "If you want to make sure you're using a tested and supported configuration, either change the TensorFlow version or the TensorFlow Addons's version. \n",
      "You can find the compatibility matrix in TensorFlow Addon's readme:\n",
      "https://github.com/tensorflow/addons\n",
      "  UserWarning,\n"
     ]
    }
   ],
   "source": [
    "from tensorflow.keras.preprocessing.image import ImageDataGenerator\n",
    "from tensorflow.keras.preprocessing import image\n",
    "from tensorflow.keras.optimizers import RMSprop\n",
    "import matplotlib.pyplot as plt\n",
    "import tensorflow as tf\n",
    "import numpy as np\n",
    "import cv2\n",
    "import os\n",
    "import tensorflow_federated as tff"
   ]
  },
  {
   "cell_type": "code",
   "execution_count": 3,
   "id": "tender-guinea",
   "metadata": {},
   "outputs": [],
   "source": [
    "import os\n",
    "import sys\n",
    "stderr = sys.stderr\n",
    "sys.stderr = open(os.devnull, 'w')\n",
    "import keras\n",
    "sys.stderr = stderr\n",
    "    \n",
    "import tensorflow as tf\n",
    "\n",
    "\n",
    "from keras.callbacks import TensorBoard, ModelCheckpoint, EarlyStopping, CSVLogger\n",
    "\n",
    "import argparse\n",
    "from keras.models import Model\n",
    "from keras.models import Sequential\n",
    "from keras.layers import Dense, Dropout, Flatten\n",
    "from keras.layers import Conv2D, MaxPooling2D\n",
    "from keras import backend as K\n",
    "from keras.preprocessing.image import ImageDataGenerator\n",
    "from keras.applications.vgg16 import VGG16\n",
    "import keras.metrics\n",
    "from tensorflow.keras.optimizers import Adam, RMSprop\n",
    "import numpy as np\n",
    "\n",
    "\n",
    "from sklearn.metrics import classification_report, confusion_matrix\n",
    "from sklearn.datasets import make_classification\n",
    "from sklearn.model_selection import train_test_split\n",
    "from sklearn.metrics import roc_curve\n",
    "\n",
    "from sklearn.metrics import auc\n",
    "from keras.models import Sequential\n",
    "from keras.layers import Dense, Activation, Dropout, Flatten, Conv2D, MaxPooling2D\n",
    "from tensorflow.keras.layers import BatchNormalization\n",
    "\n",
    "from keras.models import Sequential\n",
    "from keras.layers.core import Dense, Dropout, Activation, Flatten\n",
    "from keras.layers.convolutional import Conv2D, MaxPooling2D, ZeroPadding2D\n",
    "from keras.regularizers import l2\n",
    "\n",
    "\n",
    "\n",
    "\n",
    "import numpy, scipy.io\n",
    "import torch\n",
    "import torchvision.models as models\n",
    "from keras import models\n",
    "from keras import layers\n",
    "from keras import optimizers\n",
    "from keras.layers.core import Flatten, Dense, Dropout, Lambda\n",
    "import tensorflow as tf\n"
   ]
  },
  {
   "cell_type": "code",
   "execution_count": 3,
   "id": "theoretical-bridge",
   "metadata": {},
   "outputs": [],
   "source": [
    "#img = image.load_img(\"Dataset1/training/covid/COVID-100.png\")"
   ]
  },
  {
   "cell_type": "code",
   "execution_count": 4,
   "id": "collective-congress",
   "metadata": {},
   "outputs": [],
   "source": [
    "#plt.imshow(img)"
   ]
  },
  {
   "cell_type": "code",
   "execution_count": 5,
   "id": "convinced-administration",
   "metadata": {},
   "outputs": [],
   "source": [
    "#cv2.imread(\"Dataset1/training/covid/COVID-1.png\")"
   ]
  },
  {
   "cell_type": "code",
   "execution_count": 6,
   "id": "hawaiian-textbook",
   "metadata": {},
   "outputs": [],
   "source": [
    "#cv2.imread(\"Dataset1/training/covid/COVID-1.png\").shape"
   ]
  },
  {
   "cell_type": "code",
   "execution_count": 7,
   "id": "opened-cedar",
   "metadata": {},
   "outputs": [],
   "source": [
    "train = ImageDataGenerator(rescale=1./255,\n",
    "                          rotation_range=0.2,\n",
    "                          shear_range=0.2,\n",
    "                          horizontal_flip=True)\n",
    "test = ImageDataGenerator(rescale = 1./255,\n",
    "                          rotation_range=0.2,\n",
    "                          shear_range=0.2,\n",
    "                          horizontal_flip=True)\n",
    "validation = ImageDataGenerator(rescale = 1./255)"
   ]
  },
  {
   "cell_type": "code",
   "execution_count": 8,
   "id": "suspended-highland",
   "metadata": {},
   "outputs": [
    {
     "name": "stdout",
     "output_type": "stream",
     "text": [
      "Found 400 images belonging to 4 classes.\n",
      "Found 0 images belonging to 0 classes.\n",
      "Found 80 images belonging to 4 classes.\n"
     ]
    }
   ],
   "source": [
    "train_dataset = train.flow_from_directory('Dataset1/training/',\n",
    "                                         target_size = (256,256),\n",
    "                                         batch_size = 20,\n",
    "                                         color_mode='grayscale',\n",
    "                                         class_mode = 'categorical',\n",
    "                                         shuffle=False)\n",
    "\n",
    "test_dataset = train.flow_from_directory('Dataset1/testing/',\n",
    "                                         target_size = (256,256),\n",
    "                                         batch_size = 20,\n",
    "                                         color_mode='grayscale',\n",
    "                                         class_mode = 'categorical',\n",
    "                                         shuffle=False)\n",
    "\n",
    "validation_dataset = train.flow_from_directory('Dataset1/validation/',\n",
    "                                         target_size = (256,256),\n",
    "                                         batch_size = 20,\n",
    "                                         color_mode='grayscale',\n",
    "                                         class_mode = 'categorical',\n",
    "                                         shuffle=False)"
   ]
  },
  {
   "cell_type": "code",
   "execution_count": 9,
   "id": "martial-burns",
   "metadata": {},
   "outputs": [
    {
     "data": {
      "text/plain": [
       "{'covid': 0, 'normal': 1, 'pneumonia': 2, 'tuberculosis': 3}"
      ]
     },
     "execution_count": 9,
     "metadata": {},
     "output_type": "execute_result"
    }
   ],
   "source": [
    "validation_dataset.class_indices"
   ]
  },
  {
   "cell_type": "code",
   "execution_count": 10,
   "id": "approved-walter",
   "metadata": {},
   "outputs": [
    {
     "data": {
      "text/plain": [
       "array([0, 0, 0, 0, 0, 0, 0, 0, 0, 0, 0, 0, 0, 0, 0, 0, 0, 0, 0, 0, 1, 1,\n",
       "       1, 1, 1, 1, 1, 1, 1, 1, 1, 1, 1, 1, 1, 1, 1, 1, 1, 1, 2, 2, 2, 2,\n",
       "       2, 2, 2, 2, 2, 2, 2, 2, 2, 2, 2, 2, 2, 2, 2, 2, 3, 3, 3, 3, 3, 3,\n",
       "       3, 3, 3, 3, 3, 3, 3, 3, 3, 3, 3, 3, 3, 3])"
      ]
     },
     "execution_count": 10,
     "metadata": {},
     "output_type": "execute_result"
    }
   ],
   "source": [
    "validation_dataset.classes"
   ]
  },
  {
   "cell_type": "code",
   "execution_count": 11,
   "id": "defensive-theta",
   "metadata": {},
   "outputs": [],
   "source": [
    "model1 = tf.keras.models.Sequential([ tf.keras.layers.Conv2D(32,(3,3),activation = 'relu', padding='same', input_shape = (256,256,1)),\n",
    "                                   tf.keras.layers.MaxPool2D(2,2),\n",
    "                                   #\n",
    "                                   tf.keras.layers.Conv2D(64,(3,3),padding='same',activation = 'relu'),\n",
    "                                   tf.keras.layers.MaxPool2D(2,2),\n",
    "                                   #\n",
    "                                   tf.keras.layers.Conv2D(128,(3,3),padding='same',activation = 'relu'),\n",
    "                                   tf.keras.layers.MaxPool2D(2,2),\n",
    "                                   #\n",
    "                                   tf.keras.layers.Conv2D(256,(3,3),padding='same',activation = 'relu'),\n",
    "                                   tf.keras.layers.MaxPool2D(2,2),\n",
    "                                   #\n",
    "                                   tf.keras.layers.Flatten(),\n",
    "                                   ##\n",
    "                                   tf.keras.layers.Dense(128,activation = 'relu'),\n",
    "                                   ##\n",
    "                                   tf.keras.layers.Dense(64,activation = 'relu'),\n",
    "                                   ##\n",
    "                                   tf.keras.layers.Dense(4,activation = 'softmax')\n",
    "                                   ])"
   ]
  },
  {
   "cell_type": "code",
   "execution_count": 12,
   "id": "violent-albert",
   "metadata": {},
   "outputs": [],
   "source": [
    "model1.compile(loss = 'categorical_crossentropy',\n",
    "             optimizer = RMSprop(learning_rate = 0.001),\n",
    "             metrics = ['accuracy'])"
   ]
  },
  {
   "cell_type": "code",
   "execution_count": 13,
   "id": "coral-latino",
   "metadata": {},
   "outputs": [
    {
     "name": "stdout",
     "output_type": "stream",
     "text": [
      "Epoch 1/30\n",
      "20/20 [==============================] - 41s 2s/step - loss: 2.7445 - accuracy: 0.2000 - val_loss: 1.3855 - val_accuracy: 0.2875\n",
      "Epoch 2/30\n",
      "20/20 [==============================] - 37s 2s/step - loss: 1.3938 - accuracy: 0.1525 - val_loss: 1.3812 - val_accuracy: 0.2500\n",
      "Epoch 3/30\n",
      "20/20 [==============================] - 37s 2s/step - loss: 1.6697 - accuracy: 0.1150 - val_loss: 1.3837 - val_accuracy: 0.4125\n",
      "Epoch 4/30\n",
      "20/20 [==============================] - 38s 2s/step - loss: 1.4136 - accuracy: 0.2625 - val_loss: 1.3658 - val_accuracy: 0.2500\n",
      "Epoch 5/30\n",
      "20/20 [==============================] - 37s 2s/step - loss: 1.4430 - accuracy: 0.4000 - val_loss: 1.3370 - val_accuracy: 0.2500\n",
      "Epoch 6/30\n",
      "20/20 [==============================] - 38s 2s/step - loss: 1.5266 - accuracy: 0.4925 - val_loss: 1.3625 - val_accuracy: 0.2625\n",
      "Epoch 7/30\n",
      "20/20 [==============================] - 38s 2s/step - loss: 1.1283 - accuracy: 0.4700 - val_loss: 0.9822 - val_accuracy: 0.6000\n",
      "Epoch 8/30\n",
      "20/20 [==============================] - 37s 2s/step - loss: 1.0627 - accuracy: 0.4950 - val_loss: 0.9099 - val_accuracy: 0.6500\n",
      "Epoch 9/30\n",
      "20/20 [==============================] - 37s 2s/step - loss: 1.1159 - accuracy: 0.6075 - val_loss: 0.8822 - val_accuracy: 0.6375\n",
      "Epoch 10/30\n",
      "20/20 [==============================] - 37s 2s/step - loss: 0.9101 - accuracy: 0.5750 - val_loss: 0.8101 - val_accuracy: 0.7000\n",
      "Epoch 11/30\n",
      "20/20 [==============================] - 38s 2s/step - loss: 0.9808 - accuracy: 0.6650 - val_loss: 0.7896 - val_accuracy: 0.6500\n",
      "Epoch 12/30\n",
      "20/20 [==============================] - 37s 2s/step - loss: 0.8742 - accuracy: 0.6100 - val_loss: 0.8415 - val_accuracy: 0.6875\n",
      "Epoch 13/30\n",
      "20/20 [==============================] - 37s 2s/step - loss: 0.8410 - accuracy: 0.6425 - val_loss: 0.7751 - val_accuracy: 0.6500\n",
      "Epoch 14/30\n",
      "20/20 [==============================] - 37s 2s/step - loss: 0.8302 - accuracy: 0.6525 - val_loss: 0.7530 - val_accuracy: 0.6500\n",
      "Epoch 15/30\n",
      "20/20 [==============================] - 36s 2s/step - loss: 0.7617 - accuracy: 0.6700 - val_loss: 0.6943 - val_accuracy: 0.7500\n",
      "Epoch 16/30\n",
      "20/20 [==============================] - 37s 2s/step - loss: 0.7518 - accuracy: 0.6725 - val_loss: 0.7188 - val_accuracy: 0.7375\n",
      "Epoch 17/30\n",
      "20/20 [==============================] - 37s 2s/step - loss: 0.7021 - accuracy: 0.6900 - val_loss: 0.7875 - val_accuracy: 0.7625\n",
      "Epoch 18/30\n",
      "20/20 [==============================] - 37s 2s/step - loss: 0.6790 - accuracy: 0.7050 - val_loss: 0.9057 - val_accuracy: 0.6250\n",
      "Epoch 19/30\n",
      "20/20 [==============================] - 37s 2s/step - loss: 0.6362 - accuracy: 0.7300 - val_loss: 0.6818 - val_accuracy: 0.7375\n",
      "Epoch 20/30\n",
      "20/20 [==============================] - 37s 2s/step - loss: 0.9058 - accuracy: 0.7450 - val_loss: 0.6764 - val_accuracy: 0.7750\n",
      "Epoch 21/30\n",
      "20/20 [==============================] - 37s 2s/step - loss: 0.5495 - accuracy: 0.7775 - val_loss: 0.6150 - val_accuracy: 0.8125\n",
      "Epoch 22/30\n",
      "20/20 [==============================] - 37s 2s/step - loss: 0.4723 - accuracy: 0.8225 - val_loss: 0.7064 - val_accuracy: 0.7250\n",
      "Epoch 23/30\n",
      "20/20 [==============================] - 38s 2s/step - loss: 0.4791 - accuracy: 0.8325 - val_loss: 0.6547 - val_accuracy: 0.7625\n",
      "Epoch 24/30\n",
      "20/20 [==============================] - 37s 2s/step - loss: 0.4427 - accuracy: 0.8450 - val_loss: 0.5410 - val_accuracy: 0.8375\n",
      "Epoch 25/30\n",
      "20/20 [==============================] - 36s 2s/step - loss: 0.3549 - accuracy: 0.8450 - val_loss: 0.5099 - val_accuracy: 0.8000\n",
      "Epoch 26/30\n",
      "20/20 [==============================] - 36s 2s/step - loss: 0.3044 - accuracy: 0.8700 - val_loss: 0.5677 - val_accuracy: 0.8125\n",
      "Epoch 27/30\n",
      "20/20 [==============================] - 36s 2s/step - loss: 0.3291 - accuracy: 0.8875 - val_loss: 0.6354 - val_accuracy: 0.8125\n",
      "Epoch 28/30\n",
      "20/20 [==============================] - 36s 2s/step - loss: 0.2444 - accuracy: 0.9000 - val_loss: 0.6003 - val_accuracy: 0.8125\n",
      "Epoch 29/30\n",
      "20/20 [==============================] - 36s 2s/step - loss: 0.1785 - accuracy: 0.9325 - val_loss: 0.7795 - val_accuracy: 0.7250\n",
      "Epoch 30/30\n",
      "20/20 [==============================] - 36s 2s/step - loss: 0.1060 - accuracy: 0.9600 - val_loss: 0.9537 - val_accuracy: 0.8000\n"
     ]
    }
   ],
   "source": [
    "model_fit = model1.fit(train_dataset,\n",
    "                     steps_per_epoch = 20,\n",
    "                     epochs = 30,\n",
    "                     validation_data = validation_dataset)"
   ]
  },
  {
   "cell_type": "code",
   "execution_count": 14,
   "id": "affiliated-definition",
   "metadata": {},
   "outputs": [
    {
     "name": "stdout",
     "output_type": "stream",
     "text": [
      "4/4 [==============================] - 2s 581ms/step - loss: 0.9289 - accuracy: 0.8125\n"
     ]
    },
    {
     "data": {
      "text/plain": [
       "[0.9288860559463501, 0.8125]"
      ]
     },
     "execution_count": 14,
     "metadata": {},
     "output_type": "execute_result"
    }
   ],
   "source": [
    "model1.evaluate(validation_dataset)"
   ]
  },
  {
   "cell_type": "code",
   "execution_count": 15,
   "id": "scenic-mainland",
   "metadata": {},
   "outputs": [],
   "source": [
    "predictions = model1.predict(x=validation_dataset, verbose=0)"
   ]
  },
  {
   "cell_type": "code",
   "execution_count": 16,
   "id": "normal-lodging",
   "metadata": {},
   "outputs": [
    {
     "name": "stdout",
     "output_type": "stream",
     "text": [
      "[0.49002585 0.00120743 0.00151032 0.5072565 ]\n",
      "[9.8398995e-01 3.8685073e-07 1.6009644e-02 7.3862352e-09]\n",
      "[0.95184404 0.00240232 0.00154282 0.04421085]\n",
      "[1.22275084e-01 1.32943505e-05 1.23546299e-04 8.77588034e-01]\n",
      "[9.0561807e-03 2.6635241e-06 9.9094111e-01 1.7719627e-08]\n",
      "[9.6591938e-01 2.8864538e-02 1.1107949e-05 5.2050720e-03]\n",
      "[9.8892081e-01 1.1018435e-02 8.8403715e-07 5.9908929e-05]\n",
      "[5.6792057e-01 2.3410363e-04 4.3183401e-01 1.1286948e-05]\n",
      "[9.8103744e-01 1.8520754e-02 8.8347433e-06 4.3292664e-04]\n",
      "[9.8679835e-01 1.3171447e-02 2.3783944e-07 2.9946541e-05]\n",
      "[5.8700543e-02 1.2670079e-03 9.4003201e-01 3.9547933e-07]\n",
      "[9.9942040e-01 3.3434160e-04 1.3066424e-06 2.4399703e-04]\n",
      "[9.8616809e-01 1.3819187e-02 1.0428588e-05 2.2594133e-06]\n",
      "[8.9842707e-01 1.0136314e-01 7.3695672e-05 1.3610149e-04]\n",
      "[0.68970835 0.00464082 0.2065036  0.09914725]\n",
      "[9.9721402e-01 2.7859944e-03 3.2172516e-09 6.0628487e-08]\n",
      "[9.9573565e-01 5.7422207e-04 3.6816825e-03 8.4317271e-06]\n",
      "[9.9878365e-01 6.9537369e-04 2.6856206e-04 2.5232919e-04]\n",
      "[9.8904908e-01 1.0714147e-02 6.0730576e-06 2.3067111e-04]\n",
      "[9.5925182e-01 4.0241122e-02 4.9246394e-04 1.4604950e-05]\n",
      "[1.4770923e-04 9.6681267e-01 2.9157791e-11 3.3039581e-02]\n",
      "[2.0354535e-07 9.9780923e-01 5.0855829e-19 2.1905198e-03]\n",
      "[2.8270455e-02 9.7096235e-01 4.1232870e-06 7.6300319e-04]\n",
      "[4.46930937e-02 9.55206454e-01 1.39460388e-09 1.00485064e-04]\n",
      "[1.6645877e-01 7.5449717e-01 3.8357875e-06 7.9040259e-02]\n",
      "[2.4465914e-01 7.5529128e-01 2.1364768e-08 4.9485610e-05]\n",
      "[8.8641167e-01 1.1287913e-01 3.2699259e-07 7.0887507e-04]\n",
      "[9.8454487e-01 3.6215477e-04 1.5047411e-02 4.5617395e-05]\n",
      "[9.8984665e-01 7.2545321e-03 5.7455816e-04 2.3242568e-03]\n",
      "[2.6784951e-02 9.7314304e-01 3.6642064e-08 7.1931696e-05]\n",
      "[1.15473376e-04 9.98882473e-01 1.80326398e-09 1.00198947e-03]\n",
      "[3.4180717e-03 9.7739947e-01 2.8952561e-08 1.9182459e-02]\n",
      "[2.0380142e-01 5.0158536e-01 3.0716754e-07 2.9461294e-01]\n",
      "[8.5127754e-03 9.9148238e-01 6.4044809e-13 4.8071656e-06]\n",
      "[5.5665743e-01 9.8983919e-06 4.9436804e-02 3.9389583e-01]\n",
      "[9.8244816e-01 1.7154915e-02 2.9348374e-05 3.6749200e-04]\n",
      "[2.3371786e-02 9.7616321e-01 5.7784257e-07 4.6444219e-04]\n",
      "[2.3458911e-01 7.6532334e-01 1.1977579e-06 8.6382744e-05]\n",
      "[4.4006952e-03 9.9558157e-01 3.7899888e-09 1.7682412e-05]\n",
      "[9.9441212e-01 5.5329874e-03 5.4619351e-05 2.7791810e-07]\n",
      "[8.9133355e-05 2.3618005e-09 9.9991083e-01 1.6282092e-11]\n",
      "[1.05794655e-07 5.01554787e-12 9.99999881e-01 7.00829047e-15]\n",
      "[4.2661561e-13 8.7092373e-20 1.0000000e+00 4.7256675e-23]\n",
      "[3.8551674e-03 1.7545527e-07 9.9613720e-01 7.3655747e-06]\n",
      "[6.525709e-05 4.500525e-11 9.999348e-01 2.429979e-10]\n",
      "[8.8691739e-03 3.9329447e-04 9.9052644e-01 2.1101927e-04]\n",
      "[1.7558059e-04 1.2757000e-09 9.9982435e-01 8.4595776e-08]\n",
      "[5.0037819e-05 1.0712460e-07 9.9994981e-01 4.4047845e-09]\n",
      "[5.0040416e-09 1.9188661e-13 1.0000000e+00 1.5317781e-16]\n",
      "[4.6644784e-03 2.9206171e-04 9.9503845e-01 4.9523605e-06]\n",
      "[1.2921232e-07 4.8254819e-13 9.9999988e-01 6.7151925e-16]\n",
      "[4.2202223e-07 2.3790556e-13 9.9999952e-01 3.3226000e-12]\n",
      "[4.0708201e-06 3.4743137e-12 9.9999595e-01 5.1105847e-10]\n",
      "[1.3530508e-06 5.7707115e-14 9.9999869e-01 1.5083468e-13]\n",
      "[1.1123858e-06 9.5571216e-12 9.9999893e-01 4.2821892e-12]\n",
      "[4.7889014e-04 2.9460023e-09 9.9952114e-01 1.7208666e-10]\n",
      "[1.5248626e-10 1.8983650e-19 1.0000000e+00 1.3665901e-19]\n",
      "[4.611391e-02 6.983194e-02 8.837277e-01 3.264242e-04]\n",
      "[6.1212583e-03 3.1581812e-06 9.9387497e-01 6.2903933e-07]\n",
      "[1.7287150e-02 4.7924660e-02 9.3459076e-01 1.9749900e-04]\n",
      "[4.999324e-02 3.074307e-04 4.055553e-05 9.496587e-01]\n",
      "[1.2221755e-04 1.7467190e-05 1.3294298e-10 9.9986029e-01]\n",
      "[1.8922884e-02 9.1878035e-05 4.0604227e-06 9.8098111e-01]\n",
      "[1.5941497e-02 4.4368679e-04 4.5092367e-03 9.7910565e-01]\n",
      "[9.4055668e-02 3.6060756e-05 6.3421853e-06 9.0590191e-01]\n",
      "[7.2889164e-04 9.9922657e-01 3.4732667e-10 4.4595108e-05]\n",
      "[2.8961293e-02 1.5399122e-04 5.5185934e-03 9.6536613e-01]\n",
      "[4.8832733e-02 4.6835146e-05 1.2865149e-04 9.5099175e-01]\n",
      "[8.8660520e-01 4.4529061e-06 1.7525950e-05 1.1337279e-01]\n",
      "[0.07091689 0.0044776  0.14368346 0.780922  ]\n",
      "[1.5796207e-01 8.7575805e-05 9.3086399e-03 8.3264172e-01]\n",
      "[1.3064918e-07 3.4911171e-10 2.1471476e-09 9.9999988e-01]\n",
      "[9.0961146e-01 5.0081662e-04 7.0294129e-13 8.9887738e-02]\n",
      "[8.9695555e-01 3.3429486e-04 2.2370334e-09 1.0271012e-01]\n",
      "[9.6158711e-03 3.0146502e-05 1.6920367e-03 9.8866194e-01]\n",
      "[9.8578310e-01 1.6164842e-06 4.6062964e-06 1.4210710e-02]\n",
      "[4.2423136e-03 1.7262200e-02 2.2878339e-06 9.7849315e-01]\n",
      "[8.6891723e-01 1.2734224e-01 8.0675800e-06 3.7324543e-03]\n",
      "[6.4624451e-02 1.4069311e-02 3.6530387e-10 9.2130619e-01]\n",
      "[2.3470208e-04 2.3290279e-07 2.6519655e-04 9.9949980e-01]\n"
     ]
    }
   ],
   "source": [
    "for i in predictions:\n",
    "    print(i)"
   ]
  },
  {
   "cell_type": "code",
   "execution_count": 17,
   "id": "directed-tournament",
   "metadata": {},
   "outputs": [],
   "source": [
    "rounded_predictions = np.argmax(predictions, axis=-1)"
   ]
  },
  {
   "cell_type": "code",
   "execution_count": 18,
   "id": "accredited-excuse",
   "metadata": {},
   "outputs": [],
   "source": [
    "%matplotlib inline\n",
    "from sklearn.metrics import confusion_matrix\n",
    "import itertools\n",
    "import matplotlib.pyplot as plt"
   ]
  },
  {
   "cell_type": "code",
   "execution_count": 19,
   "id": "unsigned-battle",
   "metadata": {},
   "outputs": [],
   "source": [
    "cm = confusion_matrix(y_true=validation_dataset.classes, y_pred=rounded_predictions)"
   ]
  },
  {
   "cell_type": "code",
   "execution_count": 20,
   "id": "hundred-economics",
   "metadata": {},
   "outputs": [],
   "source": [
    "def plot_confusion_matrix(cm, classes,\n",
    "                          normalize=False,\n",
    "                          title='Confusion matrix',\n",
    "                          cmap=plt.cm.Blues):\n",
    "    \"\"\"\n",
    "    This function prints and plots the confusion matrix.\n",
    "    Normalization can be applied by setting `normalize=True`.\n",
    "    \"\"\"\n",
    "    plt.imshow(cm, interpolation='nearest', cmap=cmap)\n",
    "    plt.title(title)\n",
    "    plt.colorbar()\n",
    "    tick_marks = np.arange(len(classes))\n",
    "    plt.xticks(tick_marks, classes, rotation=45)\n",
    "    plt.yticks(tick_marks, classes)\n",
    "\n",
    "    if normalize:\n",
    "        cm = cm.astype('float') / cm.sum(axis=1)[:, np.newaxis]\n",
    "        print(\"Normalized confusion matrix\")\n",
    "    else:\n",
    "        print('Confusion matrix, without normalization')\n",
    "\n",
    "    print(cm)\n",
    "\n",
    "    thresh = cm.max() / 2.\n",
    "    for i, j in itertools.product(range(cm.shape[0]), range(cm.shape[1])):\n",
    "        plt.text(j, i, cm[i, j],\n",
    "                 horizontalalignment=\"center\",\n",
    "                 color=\"white\" if cm[i, j] > thresh else \"black\")\n",
    "\n",
    "    plt.tight_layout()\n",
    "    plt.ylabel('True label')\n",
    "    plt.xlabel('Predicted label')"
   ]
  },
  {
   "cell_type": "code",
   "execution_count": 21,
   "id": "surgical-significance",
   "metadata": {},
   "outputs": [
    {
     "name": "stdout",
     "output_type": "stream",
     "text": [
      "Confusion matrix, without normalization\n",
      "[[16  0  2  2]\n",
      " [ 6 14  0  0]\n",
      " [ 0  0 20  0]\n",
      " [ 5  1  0 14]]\n"
     ]
    },
    {
     "data": {
      "image/png": "[encoded data removed]",
      "text/plain": [
       "<Figure size 432x288 with 2 Axes>"
      ]
     },
     "metadata": {
      "needs_background": "light"
     },
     "output_type": "display_data"
    }
   ],
   "source": [
    "cm_plot_labels = ['covid', 'normal', 'pneumonia', 'tuberculosis']\n",
    "plot_confusion_matrix(cm=cm, classes=cm_plot_labels, title='Confusion Matrix')"
   ]
  },
  {
   "cell_type": "code",
   "execution_count": 22,
   "id": "stupid-mexico",
   "metadata": {},
   "outputs": [],
   "source": [
    "weight1 = model1.get_weights()"
   ]
  },
  {
   "cell_type": "code",
   "execution_count": 23,
   "id": "cardiac-petite",
   "metadata": {},
   "outputs": [
    {
     "name": "stdout",
     "output_type": "stream",
     "text": [
      "Saved model to disk\n"
     ]
    }
   ],
   "source": [
    "model_json = model1.to_json()\n",
    "with open(\"model.json\", \"w\") as json_file:\n",
    "    json_file.write(model_json)\n",
    "# serialize weights to HDF5\n",
    "model1.save_weights(\"modelfl11.h5\")\n",
    "print(\"Saved model to disk\")"
   ]
  },
  {
   "cell_type": "code",
   "execution_count": 24,
   "id": "young-hawaii",
   "metadata": {},
   "outputs": [],
   "source": [
    "#model1.set_weights(weight)"
   ]
  },
  {
   "cell_type": "code",
   "execution_count": 25,
   "id": "prerequisite-arthur",
   "metadata": {},
   "outputs": [],
   "source": [
    "#weight = model1.get_weights()"
   ]
  },
  {
   "cell_type": "code",
   "execution_count": 26,
   "id": "adopted-creativity",
   "metadata": {},
   "outputs": [
    {
     "name": "stdout",
     "output_type": "stream",
     "text": [
      "Found 400 images belonging to 4 classes.\n",
      "Found 0 images belonging to 0 classes.\n",
      "Found 80 images belonging to 4 classes.\n"
     ]
    }
   ],
   "source": [
    "train_dataset2 = train.flow_from_directory('Dataset2/training/',\n",
    "                                         target_size = (256,256),\n",
    "                                         batch_size = 20,\n",
    "                                         color_mode='grayscale',\n",
    "                                         class_mode = 'categorical',\n",
    "                                         shuffle=False)\n",
    "\n",
    "test_dataset2 = train.flow_from_directory('Dataset2/testing/',\n",
    "                                         target_size = (256,256),\n",
    "                                         batch_size = 20,\n",
    "                                         color_mode='grayscale',\n",
    "                                         class_mode = 'categorical',\n",
    "                                         shuffle=False)\n",
    "\n",
    "validation_dataset2 = train.flow_from_directory('Dataset2/validation/',\n",
    "                                         target_size = (256,256),\n",
    "                                         batch_size = 20,\n",
    "                                         color_mode='grayscale',\n",
    "                                         class_mode = 'categorical',\n",
    "                                         shuffle=False)"
   ]
  },
  {
   "cell_type": "code",
   "execution_count": 27,
   "id": "increased-hudson",
   "metadata": {},
   "outputs": [],
   "source": [
    "model2 = tf.keras.models.Sequential([ tf.keras.layers.Conv2D(32,(3,3),activation = 'relu', padding='same', input_shape = (256,256,1)),\n",
    "                                   tf.keras.layers.MaxPool2D(2,2),\n",
    "                                   #\n",
    "                                   tf.keras.layers.Conv2D(64,(3,3),padding='same',activation = 'relu'),\n",
    "                                   tf.keras.layers.MaxPool2D(2,2),\n",
    "                                   #\n",
    "                                   tf.keras.layers.Conv2D(128,(3,3),padding='same',activation = 'relu'),\n",
    "                                   tf.keras.layers.MaxPool2D(2,2),\n",
    "                                   #\n",
    "                                   tf.keras.layers.Conv2D(256,(3,3),padding='same',activation = 'relu'),\n",
    "                                   tf.keras.layers.MaxPool2D(2,2),\n",
    "                                   #\n",
    "                                   tf.keras.layers.Flatten(),\n",
    "                                   ##\n",
    "                                   tf.keras.layers.Dense(128,activation = 'relu'),\n",
    "                                   ##\n",
    "                                   tf.keras.layers.Dense(64,activation = 'relu'),\n",
    "                                   ##\n",
    "                                   tf.keras.layers.Dense(4,activation = 'softmax')\n",
    "                                   ])"
   ]
  },
  {
   "cell_type": "code",
   "execution_count": 28,
   "id": "conscious-tuition",
   "metadata": {},
   "outputs": [],
   "source": [
    "model2.compile(loss = 'categorical_crossentropy',\n",
    "             optimizer = RMSprop(learning_rate = 0.001),\n",
    "             metrics = ['accuracy'])"
   ]
  },
  {
   "cell_type": "code",
   "execution_count": 29,
   "id": "enormous-turkish",
   "metadata": {},
   "outputs": [
    {
     "name": "stdout",
     "output_type": "stream",
     "text": [
      "Epoch 1/30\n",
      "20/20 [==============================] - 37s 2s/step - loss: 2.9875 - accuracy: 0.2000 - val_loss: 1.3864 - val_accuracy: 0.3500\n",
      "Epoch 2/30\n",
      "20/20 [==============================] - 36s 2s/step - loss: 1.4129 - accuracy: 0.2300 - val_loss: 1.3838 - val_accuracy: 0.2500\n",
      "Epoch 3/30\n",
      "20/20 [==============================] - 32s 2s/step - loss: 1.3704 - accuracy: 0.3300 - val_loss: 2.2401 - val_accuracy: 0.2500\n",
      "Epoch 4/30\n",
      "20/20 [==============================] - 33s 2s/step - loss: 1.2993 - accuracy: 0.4175 - val_loss: 1.1705 - val_accuracy: 0.4875\n",
      "Epoch 5/30\n",
      "20/20 [==============================] - 33s 2s/step - loss: 1.1263 - accuracy: 0.5100 - val_loss: 1.1337 - val_accuracy: 0.4375\n",
      "Epoch 6/30\n",
      "20/20 [==============================] - 36s 2s/step - loss: 1.0767 - accuracy: 0.5150 - val_loss: 1.0603 - val_accuracy: 0.5500\n",
      "Epoch 7/30\n",
      "20/20 [==============================] - 33s 2s/step - loss: 0.9835 - accuracy: 0.5300 - val_loss: 0.9883 - val_accuracy: 0.5250\n",
      "Epoch 8/30\n",
      "20/20 [==============================] - 33s 2s/step - loss: 0.9453 - accuracy: 0.5475 - val_loss: 1.0490 - val_accuracy: 0.4875\n",
      "Epoch 9/30\n",
      "20/20 [==============================] - 34s 2s/step - loss: 1.1533 - accuracy: 0.5975 - val_loss: 0.9736 - val_accuracy: 0.5375\n",
      "Epoch 10/30\n",
      "20/20 [==============================] - 35s 2s/step - loss: 0.8496 - accuracy: 0.5925 - val_loss: 0.9964 - val_accuracy: 0.4875\n",
      "Epoch 11/30\n",
      "20/20 [==============================] - 34s 2s/step - loss: 0.7757 - accuracy: 0.6275 - val_loss: 2.2483 - val_accuracy: 0.4000\n",
      "Epoch 12/30\n",
      "20/20 [==============================] - 35s 2s/step - loss: 0.9278 - accuracy: 0.6875 - val_loss: 1.6396 - val_accuracy: 0.4875\n",
      "Epoch 13/30\n",
      "20/20 [==============================] - 33s 2s/step - loss: 0.7726 - accuracy: 0.6525 - val_loss: 0.9372 - val_accuracy: 0.5250\n",
      "Epoch 14/30\n",
      "20/20 [==============================] - 34s 2s/step - loss: 0.7417 - accuracy: 0.6675 - val_loss: 0.9180 - val_accuracy: 0.5250\n",
      "Epoch 15/30\n",
      "20/20 [==============================] - 33s 2s/step - loss: 0.7276 - accuracy: 0.7325 - val_loss: 1.0669 - val_accuracy: 0.5750\n",
      "Epoch 16/30\n",
      "20/20 [==============================] - 33s 2s/step - loss: 0.7041 - accuracy: 0.6800 - val_loss: 1.0584 - val_accuracy: 0.5875\n",
      "Epoch 17/30\n",
      "20/20 [==============================] - 35s 2s/step - loss: 0.6654 - accuracy: 0.7175 - val_loss: 0.9952 - val_accuracy: 0.5875\n",
      "Epoch 18/30\n",
      "20/20 [==============================] - 35s 2s/step - loss: 0.5768 - accuracy: 0.7750 - val_loss: 1.6033 - val_accuracy: 0.5750\n",
      "Epoch 19/30\n",
      "20/20 [==============================] - 33s 2s/step - loss: 0.5848 - accuracy: 0.7400 - val_loss: 0.9816 - val_accuracy: 0.6000\n",
      "Epoch 20/30\n",
      "20/20 [==============================] - 33s 2s/step - loss: 0.5136 - accuracy: 0.7700 - val_loss: 1.0444 - val_accuracy: 0.6250\n",
      "Epoch 21/30\n",
      "20/20 [==============================] - 34s 2s/step - loss: 0.4625 - accuracy: 0.8250 - val_loss: 1.6165 - val_accuracy: 0.5250\n",
      "Epoch 22/30\n",
      "20/20 [==============================] - 33s 2s/step - loss: 1.4748 - accuracy: 0.8250 - val_loss: 1.5497 - val_accuracy: 0.5125\n",
      "Epoch 23/30\n",
      "20/20 [==============================] - 33s 2s/step - loss: 0.4102 - accuracy: 0.8375 - val_loss: 0.9778 - val_accuracy: 0.6875\n",
      "Epoch 24/30\n",
      "20/20 [==============================] - 34s 2s/step - loss: 0.3490 - accuracy: 0.8725 - val_loss: 1.3078 - val_accuracy: 0.5750\n",
      "Epoch 25/30\n",
      "20/20 [==============================] - 33s 2s/step - loss: 0.2832 - accuracy: 0.8825 - val_loss: 1.1378 - val_accuracy: 0.6500\n",
      "Epoch 26/30\n",
      "20/20 [==============================] - 34s 2s/step - loss: 0.3490 - accuracy: 0.8500 - val_loss: 1.1183 - val_accuracy: 0.7000\n",
      "Epoch 27/30\n",
      "20/20 [==============================] - 33s 2s/step - loss: 0.2160 - accuracy: 0.9025 - val_loss: 1.4047 - val_accuracy: 0.6875\n",
      "Epoch 28/30\n",
      "20/20 [==============================] - 36s 2s/step - loss: 0.1991 - accuracy: 0.9300 - val_loss: 1.2126 - val_accuracy: 0.6625\n",
      "Epoch 29/30\n",
      "20/20 [==============================] - 34s 2s/step - loss: 0.1779 - accuracy: 0.9200 - val_loss: 1.1638 - val_accuracy: 0.7000\n",
      "Epoch 30/30\n",
      "20/20 [==============================] - 34s 2s/step - loss: 0.1578 - accuracy: 0.9450 - val_loss: 1.4675 - val_accuracy: 0.6875\n"
     ]
    }
   ],
   "source": [
    "model_fit = model2.fit(train_dataset,\n",
    "                     steps_per_epoch = 20,\n",
    "                     epochs = 30,\n",
    "                     validation_data = validation_dataset2)"
   ]
  },
  {
   "cell_type": "code",
   "execution_count": 30,
   "id": "willing-advice",
   "metadata": {},
   "outputs": [
    {
     "name": "stdout",
     "output_type": "stream",
     "text": [
      "4/4 [==============================] - 2s 624ms/step - loss: 1.4791 - accuracy: 0.7000\n"
     ]
    },
    {
     "data": {
      "text/plain": [
       "[1.4790576696395874, 0.699999988079071]"
      ]
     },
     "execution_count": 30,
     "metadata": {},
     "output_type": "execute_result"
    }
   ],
   "source": [
    "model2.evaluate(validation_dataset2)"
   ]
  },
  {
   "cell_type": "code",
   "execution_count": 31,
   "id": "known-lloyd",
   "metadata": {},
   "outputs": [],
   "source": [
    "predictions = model2.predict(x=validation_dataset2, verbose=0)"
   ]
  },
  {
   "cell_type": "code",
   "execution_count": 32,
   "id": "inner-advertiser",
   "metadata": {},
   "outputs": [],
   "source": [
    "rounded_predictions = np.argmax(predictions, axis=-1)"
   ]
  },
  {
   "cell_type": "code",
   "execution_count": 33,
   "id": "western-smith",
   "metadata": {},
   "outputs": [],
   "source": [
    "cm = confusion_matrix(y_true=validation_dataset2.classes, y_pred=rounded_predictions)"
   ]
  },
  {
   "cell_type": "code",
   "execution_count": 34,
   "id": "reflected-cloud",
   "metadata": {},
   "outputs": [],
   "source": [
    "def plot_confusion_matrix(cm, classes,\n",
    "                          normalize=False,\n",
    "                          title='Confusion matrix',\n",
    "                          cmap=plt.cm.Blues):\n",
    "    \"\"\"\n",
    "    This function prints and plots the confusion matrix.\n",
    "    Normalization can be applied by setting `normalize=True`.\n",
    "    \"\"\"\n",
    "    plt.imshow(cm, interpolation='nearest', cmap=cmap)\n",
    "    plt.title(title)\n",
    "    plt.colorbar()\n",
    "    tick_marks = np.arange(len(classes))\n",
    "    plt.xticks(tick_marks, classes, rotation=45)\n",
    "    plt.yticks(tick_marks, classes)\n",
    "\n",
    "    if normalize:\n",
    "        cm = cm.astype('float') / cm.sum(axis=1)[:, np.newaxis]\n",
    "        print(\"Normalized confusion matrix\")\n",
    "    else:\n",
    "        print('Confusion matrix, without normalization')\n",
    "\n",
    "    print(cm)\n",
    "\n",
    "    thresh = cm.max() / 2.\n",
    "    for i, j in itertools.product(range(cm.shape[0]), range(cm.shape[1])):\n",
    "        plt.text(j, i, cm[i, j],\n",
    "                 horizontalalignment=\"center\",\n",
    "                 color=\"white\" if cm[i, j] > thresh else \"black\")\n",
    "\n",
    "    plt.tight_layout()\n",
    "    plt.ylabel('True label')\n",
    "    plt.xlabel('Predicted label')"
   ]
  },
  {
   "cell_type": "code",
   "execution_count": 35,
   "id": "classified-conspiracy",
   "metadata": {},
   "outputs": [
    {
     "name": "stdout",
     "output_type": "stream",
     "text": [
      "Confusion matrix, without normalization\n",
      "[[ 6 10  1  3]\n",
      " [ 4 15  0  1]\n",
      " [ 0  1 18  1]\n",
      " [ 1  1  1 17]]\n"
     ]
    },
    {
     "data": {
      "image/png": "[encoded data removed]",
      "text/plain": [
       "<Figure size 432x288 with 2 Axes>"
      ]
     },
     "metadata": {
      "needs_background": "light"
     },
     "output_type": "display_data"
    }
   ],
   "source": [
    "cm_plot_labels = ['covid', 'normal', 'pneumonia', 'tuberculosis']\n",
    "plot_confusion_matrix(cm=cm, classes=cm_plot_labels, title='Confusion Matrix')"
   ]
  },
  {
   "cell_type": "code",
   "execution_count": 36,
   "id": "sitting-divide",
   "metadata": {},
   "outputs": [],
   "source": [
    "weight2 = model2.get_weights()"
   ]
  },
  {
   "cell_type": "code",
   "execution_count": 37,
   "id": "level-principal",
   "metadata": {},
   "outputs": [
    {
     "name": "stdout",
     "output_type": "stream",
     "text": [
      "Saved model to disk\n"
     ]
    }
   ],
   "source": [
    "model_json = model2.to_json()\n",
    "with open(\"model.json\", \"w\") as json_file:\n",
    "    json_file.write(model_json)\n",
    "# serialize weights to HDF5\n",
    "model2.save_weights(\"modelfl21.h5\")\n",
    "print(\"Saved model to disk\")"
   ]
  },
  {
   "cell_type": "code",
   "execution_count": 38,
   "id": "superior-cartridge",
   "metadata": {},
   "outputs": [],
   "source": [
    "#model1.set_weights(weight)"
   ]
  },
  {
   "cell_type": "code",
   "execution_count": 39,
   "id": "broke-torture",
   "metadata": {},
   "outputs": [],
   "source": [
    "#weight = model1.get_weights()"
   ]
  },
  {
   "cell_type": "code",
   "execution_count": 40,
   "id": "dress-niagara",
   "metadata": {},
   "outputs": [
    {
     "name": "stdout",
     "output_type": "stream",
     "text": [
      "Found 400 images belonging to 4 classes.\n",
      "Found 0 images belonging to 0 classes.\n",
      "Found 80 images belonging to 4 classes.\n"
     ]
    }
   ],
   "source": [
    "train_dataset3 = train.flow_from_directory('Dataset3/training/',\n",
    "                                         target_size = (256,256),\n",
    "                                         batch_size = 20,\n",
    "                                         color_mode='grayscale',\n",
    "                                         class_mode = 'categorical',\n",
    "                                         shuffle=False)\n",
    "\n",
    "test_dataset3 = train.flow_from_directory('Dataset3/testing/',\n",
    "                                         target_size = (256,256),\n",
    "                                         batch_size = 20,\n",
    "                                         color_mode='grayscale',\n",
    "                                         class_mode = 'categorical',\n",
    "                                         shuffle=False)\n",
    "\n",
    "validation_dataset3 = train.flow_from_directory('Dataset3/validation/',\n",
    "                                         target_size = (256,256),\n",
    "                                         batch_size = 20,\n",
    "                                         color_mode='grayscale',\n",
    "                                         class_mode = 'categorical',\n",
    "                                         shuffle=False)"
   ]
  },
  {
   "cell_type": "code",
   "execution_count": 41,
   "id": "narrative-fleet",
   "metadata": {},
   "outputs": [],
   "source": [
    "model3 = tf.keras.models.Sequential([ tf.keras.layers.Conv2D(32,(3,3),activation = 'relu', padding='same', input_shape = (256,256,1)),\n",
    "                                   tf.keras.layers.MaxPool2D(2,2),\n",
    "                                   #\n",
    "                                   tf.keras.layers.Conv2D(64,(3,3),padding='same',activation = 'relu'),\n",
    "                                   tf.keras.layers.MaxPool2D(2,2),\n",
    "                                   #\n",
    "                                   tf.keras.layers.Conv2D(128,(3,3),padding='same',activation = 'relu'),\n",
    "                                   tf.keras.layers.MaxPool2D(2,2),\n",
    "                                   #\n",
    "                                   tf.keras.layers.Conv2D(256,(3,3),padding='same',activation = 'relu'),\n",
    "                                   tf.keras.layers.MaxPool2D(2,2),\n",
    "                                   #\n",
    "                                   tf.keras.layers.Flatten(),\n",
    "                                   ##\n",
    "                                   tf.keras.layers.Dense(128,activation = 'relu'),\n",
    "                                   ##\n",
    "                                   tf.keras.layers.Dense(64,activation = 'relu'),\n",
    "                                   ##\n",
    "                                   tf.keras.layers.Dense(4,activation = 'softmax')\n",
    "                                   ])"
   ]
  },
  {
   "cell_type": "code",
   "execution_count": 42,
   "id": "continental-phase",
   "metadata": {},
   "outputs": [],
   "source": [
    "#model3.set_weights(weight)"
   ]
  },
  {
   "cell_type": "code",
   "execution_count": 43,
   "id": "polyphonic-termination",
   "metadata": {},
   "outputs": [],
   "source": [
    "model3.compile(loss = 'categorical_crossentropy',\n",
    "             optimizer = RMSprop(learning_rate = 0.001),\n",
    "             metrics = ['accuracy'])"
   ]
  },
  {
   "cell_type": "code",
   "execution_count": 44,
   "id": "pressed-albania",
   "metadata": {},
   "outputs": [
    {
     "name": "stdout",
     "output_type": "stream",
     "text": [
      "Epoch 1/30\n",
      "20/20 [==============================] - 34s 2s/step - loss: 2.0614 - accuracy: 0.1500 - val_loss: 1.3863 - val_accuracy: 0.2500\n",
      "Epoch 2/30\n",
      "20/20 [==============================] - 33s 2s/step - loss: 1.3922 - accuracy: 0.0500 - val_loss: 1.3862 - val_accuracy: 0.2750\n",
      "Epoch 3/30\n",
      "20/20 [==============================] - 33s 2s/step - loss: 1.3887 - accuracy: 0.1875 - val_loss: 1.3839 - val_accuracy: 0.4500\n",
      "Epoch 4/30\n",
      "20/20 [==============================] - 32s 2s/step - loss: 1.4182 - accuracy: 0.1800 - val_loss: 1.3836 - val_accuracy: 0.2750\n",
      "Epoch 5/30\n",
      "20/20 [==============================] - 32s 2s/step - loss: 1.7741 - accuracy: 0.1650 - val_loss: 1.4204 - val_accuracy: 0.3000\n",
      "Epoch 6/30\n",
      "20/20 [==============================] - 32s 2s/step - loss: 1.4172 - accuracy: 0.3425 - val_loss: 1.3048 - val_accuracy: 0.5375\n",
      "Epoch 7/30\n",
      "20/20 [==============================] - 32s 2s/step - loss: 1.4513 - accuracy: 0.3650 - val_loss: 1.1549 - val_accuracy: 0.5500\n",
      "Epoch 8/30\n",
      "20/20 [==============================] - 32s 2s/step - loss: 1.1723 - accuracy: 0.5225 - val_loss: 1.0266 - val_accuracy: 0.5625\n",
      "Epoch 9/30\n",
      "20/20 [==============================] - 32s 2s/step - loss: 1.1457 - accuracy: 0.6100 - val_loss: 0.9390 - val_accuracy: 0.6000\n",
      "Epoch 10/30\n",
      "20/20 [==============================] - 37s 2s/step - loss: 0.7967 - accuracy: 0.6400 - val_loss: 1.1161 - val_accuracy: 0.5625\n",
      "Epoch 11/30\n",
      "20/20 [==============================] - 35s 2s/step - loss: 0.7803 - accuracy: 0.6325 - val_loss: 1.2408 - val_accuracy: 0.5875\n",
      "Epoch 12/30\n",
      "20/20 [==============================] - 40s 2s/step - loss: 0.7200 - accuracy: 0.6750 - val_loss: 0.8140 - val_accuracy: 0.6625\n",
      "Epoch 13/30\n",
      "20/20 [==============================] - 47s 2s/step - loss: 0.6892 - accuracy: 0.7350 - val_loss: 0.7755 - val_accuracy: 0.6625\n",
      "Epoch 14/30\n",
      "20/20 [==============================] - 44s 2s/step - loss: 0.6366 - accuracy: 0.7425 - val_loss: 0.8509 - val_accuracy: 0.7000\n",
      "Epoch 15/30\n",
      "20/20 [==============================] - 44s 2s/step - loss: 0.5237 - accuracy: 0.8025 - val_loss: 0.9116 - val_accuracy: 0.6500\n",
      "Epoch 16/30\n",
      "20/20 [==============================] - 45s 2s/step - loss: 0.4590 - accuracy: 0.7900 - val_loss: 0.9794 - val_accuracy: 0.6875\n",
      "Epoch 17/30\n",
      "20/20 [==============================] - 45s 2s/step - loss: 0.4467 - accuracy: 0.8100 - val_loss: 1.0088 - val_accuracy: 0.6375\n",
      "Epoch 18/30\n",
      "20/20 [==============================] - 44s 2s/step - loss: 0.3736 - accuracy: 0.8625 - val_loss: 0.8551 - val_accuracy: 0.7125\n",
      "Epoch 19/30\n",
      "20/20 [==============================] - 44s 2s/step - loss: 0.3789 - accuracy: 0.8725 - val_loss: 0.9529 - val_accuracy: 0.6875\n",
      "Epoch 20/30\n",
      "20/20 [==============================] - 45s 2s/step - loss: 0.3354 - accuracy: 0.8725 - val_loss: 0.9667 - val_accuracy: 0.7125\n",
      "Epoch 21/30\n",
      "20/20 [==============================] - 45s 2s/step - loss: 0.3673 - accuracy: 0.8675 - val_loss: 0.8986 - val_accuracy: 0.6875\n",
      "Epoch 22/30\n",
      "20/20 [==============================] - 44s 2s/step - loss: 0.2932 - accuracy: 0.8900 - val_loss: 1.2298 - val_accuracy: 0.6875\n",
      "Epoch 23/30\n",
      "20/20 [==============================] - 45s 2s/step - loss: 0.2039 - accuracy: 0.9175 - val_loss: 1.7202 - val_accuracy: 0.6750\n",
      "Epoch 24/30\n",
      "20/20 [==============================] - 45s 2s/step - loss: 1.9451 - accuracy: 0.8725 - val_loss: 1.3576 - val_accuracy: 0.7500\n",
      "Epoch 25/30\n",
      "20/20 [==============================] - 44s 2s/step - loss: 0.1845 - accuracy: 0.9275 - val_loss: 1.4537 - val_accuracy: 0.7250\n",
      "Epoch 26/30\n",
      "20/20 [==============================] - 45s 2s/step - loss: 0.1576 - accuracy: 0.9375 - val_loss: 1.3419 - val_accuracy: 0.7375\n",
      "Epoch 27/30\n",
      "20/20 [==============================] - 45s 2s/step - loss: 0.2006 - accuracy: 0.9300 - val_loss: 1.6374 - val_accuracy: 0.6250\n",
      "Epoch 28/30\n",
      "20/20 [==============================] - 44s 2s/step - loss: 0.1651 - accuracy: 0.9325 - val_loss: 1.7070 - val_accuracy: 0.7500\n",
      "Epoch 29/30\n",
      "20/20 [==============================] - 44s 2s/step - loss: 0.1133 - accuracy: 0.9550 - val_loss: 2.5031 - val_accuracy: 0.7000\n",
      "Epoch 30/30\n",
      "20/20 [==============================] - 45s 2s/step - loss: 0.5227 - accuracy: 0.9000 - val_loss: 1.1277 - val_accuracy: 0.7500\n"
     ]
    }
   ],
   "source": [
    "model_fit = model3.fit(train_dataset3,\n",
    "                     steps_per_epoch = 20,\n",
    "                     epochs = 30,\n",
    "                     validation_data = validation_dataset3)"
   ]
  },
  {
   "cell_type": "code",
   "execution_count": 45,
   "id": "differential-tribe",
   "metadata": {},
   "outputs": [
    {
     "name": "stdout",
     "output_type": "stream",
     "text": [
      "4/4 [==============================] - 3s 758ms/step - loss: 1.1730 - accuracy: 0.7500\n"
     ]
    },
    {
     "data": {
      "text/plain": [
       "[1.1729800701141357, 0.75]"
      ]
     },
     "execution_count": 45,
     "metadata": {},
     "output_type": "execute_result"
    }
   ],
   "source": [
    "model3.evaluate(validation_dataset3)"
   ]
  },
  {
   "cell_type": "code",
   "execution_count": 46,
   "id": "collected-communications",
   "metadata": {},
   "outputs": [],
   "source": [
    "predictions = model3.predict(x=validation_dataset3, verbose=0)"
   ]
  },
  {
   "cell_type": "code",
   "execution_count": 47,
   "id": "posted-detail",
   "metadata": {},
   "outputs": [],
   "source": [
    "rounded_predictions = np.argmax(predictions, axis=-1)"
   ]
  },
  {
   "cell_type": "code",
   "execution_count": 48,
   "id": "damaged-inside",
   "metadata": {},
   "outputs": [],
   "source": [
    "cm = confusion_matrix(y_true=validation_dataset3.classes, y_pred=rounded_predictions)"
   ]
  },
  {
   "cell_type": "code",
   "execution_count": 49,
   "id": "geographic-crack",
   "metadata": {},
   "outputs": [],
   "source": [
    "def plot_confusion_matrix(cm, classes,\n",
    "                          normalize=False,\n",
    "                          title='Confusion matrix',\n",
    "                          cmap=plt.cm.Blues):\n",
    "    \"\"\"\n",
    "    This function prints and plots the confusion matrix.\n",
    "    Normalization can be applied by setting `normalize=True`.\n",
    "    \"\"\"\n",
    "    plt.imshow(cm, interpolation='nearest', cmap=cmap)\n",
    "    plt.title(title)\n",
    "    plt.colorbar()\n",
    "    tick_marks = np.arange(len(classes))\n",
    "    plt.xticks(tick_marks, classes, rotation=45)\n",
    "    plt.yticks(tick_marks, classes)\n",
    "\n",
    "    if normalize:\n",
    "        cm = cm.astype('float') / cm.sum(axis=1)[:, np.newaxis]\n",
    "        print(\"Normalized confusion matrix\")\n",
    "    else:\n",
    "        print('Confusion matrix, without normalization')\n",
    "\n",
    "    print(cm)\n",
    "\n",
    "    thresh = cm.max() / 2.\n",
    "    for i, j in itertools.product(range(cm.shape[0]), range(cm.shape[1])):\n",
    "        plt.text(j, i, cm[i, j],\n",
    "                 horizontalalignment=\"center\",\n",
    "                 color=\"white\" if cm[i, j] > thresh else \"black\")\n",
    "\n",
    "    plt.tight_layout()\n",
    "    plt.ylabel('True label')\n",
    "    plt.xlabel('Predicted label')"
   ]
  },
  {
   "cell_type": "code",
   "execution_count": 50,
   "id": "involved-address",
   "metadata": {},
   "outputs": [
    {
     "name": "stdout",
     "output_type": "stream",
     "text": [
      "Confusion matrix, without normalization\n",
      "[[ 8  9  0  3]\n",
      " [ 4 14  1  1]\n",
      " [ 0  1 18  1]\n",
      " [ 1  0  0 19]]\n"
     ]
    },
    {
     "data": {
      "image/png": "[encoded data removed]",
      "text/plain": [
       "<Figure size 432x288 with 2 Axes>"
      ]
     },
     "metadata": {
      "needs_background": "light"
     },
     "output_type": "display_data"
    }
   ],
   "source": [
    "cm_plot_labels = ['covid', 'normal', 'pneumonia', 'tuberculosis']\n",
    "plot_confusion_matrix(cm=cm, classes=cm_plot_labels, title='Confusion Matrix')"
   ]
  },
  {
   "cell_type": "code",
   "execution_count": 51,
   "id": "superb-medication",
   "metadata": {},
   "outputs": [],
   "source": [
    "weight3 = model3.get_weights()"
   ]
  },
  {
   "cell_type": "code",
   "execution_count": 52,
   "id": "infrared-governor",
   "metadata": {},
   "outputs": [
    {
     "name": "stdout",
     "output_type": "stream",
     "text": [
      "Saved model to disk\n"
     ]
    }
   ],
   "source": [
    "model_json = model3.to_json()\n",
    "with open(\"model.json\", \"w\") as json_file:\n",
    "    json_file.write(model_json)\n",
    "# serialize weights to HDF5\n",
    "model3.save_weights(\"modelfl31.h5\")\n",
    "print(\"Saved model to disk\")"
   ]
  },
  {
   "cell_type": "code",
   "execution_count": 53,
   "id": "personal-plastic",
   "metadata": {},
   "outputs": [],
   "source": [
    "#model1.set_weights(weight3)"
   ]
  },
  {
   "cell_type": "code",
   "execution_count": 54,
   "id": "metropolitan-simpson",
   "metadata": {},
   "outputs": [],
   "source": [
    "#weight = model1.get_weights()"
   ]
  },
  {
   "cell_type": "code",
   "execution_count": null,
   "id": "rocky-screening",
   "metadata": {},
   "outputs": [],
   "source": []
  },
  {
   "cell_type": "code",
   "execution_count": 55,
   "id": "supported-savannah",
   "metadata": {},
   "outputs": [
    {
     "name": "stdout",
     "output_type": "stream",
     "text": [
      "Found 400 images belonging to 4 classes.\n",
      "Found 0 images belonging to 0 classes.\n",
      "Found 80 images belonging to 4 classes.\n"
     ]
    }
   ],
   "source": [
    "train_dataset4 = train.flow_from_directory('Dataset4/training/',\n",
    "                                         target_size = (256,256),\n",
    "                                         batch_size = 20,\n",
    "                                         color_mode='grayscale',\n",
    "                                         class_mode = 'categorical',\n",
    "                                         shuffle=False)\n",
    "\n",
    "test_dataset4 = train.flow_from_directory('Dataset4/testing/',\n",
    "                                         target_size = (256,256),\n",
    "                                         batch_size = 20,\n",
    "                                         color_mode='grayscale',\n",
    "                                         class_mode = 'categorical',\n",
    "                                         shuffle=False)\n",
    "\n",
    "validation_dataset4 = train.flow_from_directory('Dataset4/validation/',\n",
    "                                         target_size = (256,256),\n",
    "                                         batch_size = 20,\n",
    "                                         color_mode='grayscale',\n",
    "                                         class_mode = 'categorical',\n",
    "                                         shuffle=False)"
   ]
  },
  {
   "cell_type": "code",
   "execution_count": 56,
   "id": "verified-success",
   "metadata": {},
   "outputs": [],
   "source": [
    "model4 = tf.keras.models.Sequential([ tf.keras.layers.Conv2D(32,(3,3),activation = 'relu', padding='same', input_shape = (256,256,1)),\n",
    "                                   tf.keras.layers.MaxPool2D(2,2),\n",
    "                                   #\n",
    "                                   tf.keras.layers.Conv2D(64,(3,3),padding='same',activation = 'relu'),\n",
    "                                   tf.keras.layers.MaxPool2D(2,2),\n",
    "                                   #\n",
    "                                   tf.keras.layers.Conv2D(128,(3,3),padding='same',activation = 'relu'),\n",
    "                                   tf.keras.layers.MaxPool2D(2,2),\n",
    "                                   #\n",
    "                                   tf.keras.layers.Conv2D(256,(3,3),padding='same',activation = 'relu'),\n",
    "                                   tf.keras.layers.MaxPool2D(2,2),\n",
    "                                   #\n",
    "                                   tf.keras.layers.Flatten(),\n",
    "                                   ##\n",
    "                                   tf.keras.layers.Dense(128,activation = 'relu'),\n",
    "                                   ##\n",
    "                                   tf.keras.layers.Dense(64,activation = 'relu'),\n",
    "                                   ##\n",
    "                                   tf.keras.layers.Dense(4,activation = 'softmax')\n",
    "                                   ])"
   ]
  },
  {
   "cell_type": "code",
   "execution_count": 57,
   "id": "different-pencil",
   "metadata": {},
   "outputs": [],
   "source": [
    "#model4.set_weights(weight)"
   ]
  },
  {
   "cell_type": "code",
   "execution_count": 58,
   "id": "robust-howard",
   "metadata": {},
   "outputs": [],
   "source": [
    "model4.compile(loss = 'categorical_crossentropy',\n",
    "             optimizer = RMSprop(learning_rate = 0.001),\n",
    "             metrics = ['accuracy'])"
   ]
  },
  {
   "cell_type": "code",
   "execution_count": 59,
   "id": "sporting-horror",
   "metadata": {},
   "outputs": [
    {
     "name": "stdout",
     "output_type": "stream",
     "text": [
      "Epoch 1/30\n",
      "20/20 [==============================] - 49s 2s/step - loss: 1.5118 - accuracy: 0.1500 - val_loss: 1.3863 - val_accuracy: 0.2500\n",
      "Epoch 2/30\n",
      "20/20 [==============================] - 45s 2s/step - loss: 1.4086 - accuracy: 0.1500 - val_loss: 1.3861 - val_accuracy: 0.2500\n",
      "Epoch 3/30\n",
      "20/20 [==============================] - 45s 2s/step - loss: 1.3925 - accuracy: 0.0550 - val_loss: 1.3857 - val_accuracy: 0.2250\n",
      "Epoch 4/30\n",
      "20/20 [==============================] - 45s 2s/step - loss: 1.4206 - accuracy: 0.1200 - val_loss: 1.3788 - val_accuracy: 0.4375\n",
      "Epoch 5/30\n",
      "20/20 [==============================] - 45s 2s/step - loss: 1.4468 - accuracy: 0.1450 - val_loss: 1.3489 - val_accuracy: 0.4125\n",
      "Epoch 6/30\n",
      "20/20 [==============================] - 45s 2s/step - loss: 1.2973 - accuracy: 0.3375 - val_loss: 1.1495 - val_accuracy: 0.5375\n",
      "Epoch 7/30\n",
      "20/20 [==============================] - 45s 2s/step - loss: 1.2512 - accuracy: 0.5175 - val_loss: 1.0820 - val_accuracy: 0.4875\n",
      "Epoch 8/30\n",
      "20/20 [==============================] - 45s 2s/step - loss: 1.0453 - accuracy: 0.5225 - val_loss: 0.9404 - val_accuracy: 0.6000\n",
      "Epoch 9/30\n",
      "20/20 [==============================] - 45s 2s/step - loss: 0.9526 - accuracy: 0.4925 - val_loss: 0.8536 - val_accuracy: 0.6625\n",
      "Epoch 10/30\n",
      "20/20 [==============================] - 45s 2s/step - loss: 0.9849 - accuracy: 0.6425 - val_loss: 0.9141 - val_accuracy: 0.5125\n",
      "Epoch 11/30\n",
      "20/20 [==============================] - 46s 2s/step - loss: 0.7804 - accuracy: 0.6325 - val_loss: 0.7094 - val_accuracy: 0.7000\n",
      "Epoch 12/30\n",
      "20/20 [==============================] - 45s 2s/step - loss: 0.8465 - accuracy: 0.7025 - val_loss: 0.6674 - val_accuracy: 0.6750\n",
      "Epoch 13/30\n",
      "20/20 [==============================] - 45s 2s/step - loss: 0.6899 - accuracy: 0.7225 - val_loss: 0.6491 - val_accuracy: 0.7625\n",
      "Epoch 14/30\n",
      "20/20 [==============================] - 45s 2s/step - loss: 0.6128 - accuracy: 0.7575 - val_loss: 0.6570 - val_accuracy: 0.7125\n",
      "Epoch 15/30\n",
      "20/20 [==============================] - 45s 2s/step - loss: 0.5584 - accuracy: 0.7775 - val_loss: 0.7434 - val_accuracy: 0.6500\n",
      "Epoch 16/30\n",
      "20/20 [==============================] - 45s 2s/step - loss: 0.5626 - accuracy: 0.7675 - val_loss: 0.6635 - val_accuracy: 0.7750\n",
      "Epoch 17/30\n",
      "20/20 [==============================] - 45s 2s/step - loss: 0.4672 - accuracy: 0.8125 - val_loss: 0.6197 - val_accuracy: 0.7625\n",
      "Epoch 18/30\n",
      "20/20 [==============================] - 45s 2s/step - loss: 0.9873 - accuracy: 0.8400 - val_loss: 0.6215 - val_accuracy: 0.8125\n",
      "Epoch 19/30\n",
      "20/20 [==============================] - 45s 2s/step - loss: 0.3230 - accuracy: 0.8725 - val_loss: 0.6866 - val_accuracy: 0.8625\n",
      "Epoch 20/30\n",
      "20/20 [==============================] - 45s 2s/step - loss: 0.3004 - accuracy: 0.8750 - val_loss: 0.5224 - val_accuracy: 0.8625\n",
      "Epoch 21/30\n",
      "20/20 [==============================] - 45s 2s/step - loss: 0.3270 - accuracy: 0.8700 - val_loss: 0.6464 - val_accuracy: 0.7500\n",
      "Epoch 22/30\n",
      "20/20 [==============================] - 45s 2s/step - loss: 0.2950 - accuracy: 0.8750 - val_loss: 0.5038 - val_accuracy: 0.7875\n",
      "Epoch 23/30\n",
      "20/20 [==============================] - 46s 2s/step - loss: 0.1730 - accuracy: 0.9425 - val_loss: 0.7323 - val_accuracy: 0.8625\n",
      "Epoch 24/30\n",
      "20/20 [==============================] - 45s 2s/step - loss: 0.2619 - accuracy: 0.9200 - val_loss: 0.6437 - val_accuracy: 0.8125\n",
      "Epoch 25/30\n",
      "20/20 [==============================] - 45s 2s/step - loss: 0.2140 - accuracy: 0.9250 - val_loss: 0.6429 - val_accuracy: 0.7750\n",
      "Epoch 26/30\n",
      "20/20 [==============================] - 45s 2s/step - loss: 0.1261 - accuracy: 0.9500 - val_loss: 0.8912 - val_accuracy: 0.8250\n",
      "Epoch 27/30\n",
      "20/20 [==============================] - 45s 2s/step - loss: 0.1967 - accuracy: 0.9225 - val_loss: 0.5077 - val_accuracy: 0.8750\n",
      "Epoch 28/30\n",
      "20/20 [==============================] - 45s 2s/step - loss: 0.1462 - accuracy: 0.9425 - val_loss: 0.6495 - val_accuracy: 0.8500\n",
      "Epoch 29/30\n",
      "20/20 [==============================] - 45s 2s/step - loss: 0.0715 - accuracy: 0.9800 - val_loss: 0.8817 - val_accuracy: 0.8000\n",
      "Epoch 30/30\n",
      "20/20 [==============================] - 45s 2s/step - loss: 0.1123 - accuracy: 0.9675 - val_loss: 0.9802 - val_accuracy: 0.7625\n"
     ]
    }
   ],
   "source": [
    "model_fit = model4.fit(train_dataset4,\n",
    "                     steps_per_epoch = 20,\n",
    "                     epochs = 30,\n",
    "                     validation_data = validation_dataset4)"
   ]
  },
  {
   "cell_type": "code",
   "execution_count": 60,
   "id": "closed-mumbai",
   "metadata": {},
   "outputs": [
    {
     "name": "stdout",
     "output_type": "stream",
     "text": [
      "4/4 [==============================] - 4s 1s/step - loss: 1.1364 - accuracy: 0.8000\n"
     ]
    },
    {
     "data": {
      "text/plain": [
       "[1.1363996267318726, 0.800000011920929]"
      ]
     },
     "execution_count": 60,
     "metadata": {},
     "output_type": "execute_result"
    }
   ],
   "source": [
    "model4.evaluate(validation_dataset4)"
   ]
  },
  {
   "cell_type": "code",
   "execution_count": 61,
   "id": "cardiovascular-solid",
   "metadata": {},
   "outputs": [],
   "source": [
    "predictions = model4.predict(x=validation_dataset4, verbose=0)"
   ]
  },
  {
   "cell_type": "code",
   "execution_count": 62,
   "id": "casual-glossary",
   "metadata": {},
   "outputs": [],
   "source": [
    "rounded_predictions = np.argmax(predictions, axis=-1)"
   ]
  },
  {
   "cell_type": "code",
   "execution_count": 63,
   "id": "outside-provincial",
   "metadata": {},
   "outputs": [],
   "source": [
    "cm = confusion_matrix(y_true=validation_dataset4.classes, y_pred=rounded_predictions)"
   ]
  },
  {
   "cell_type": "code",
   "execution_count": 64,
   "id": "polyphonic-nicaragua",
   "metadata": {},
   "outputs": [],
   "source": [
    "def plot_confusion_matrix(cm, classes,\n",
    "                          normalize=False,\n",
    "                          title='Confusion matrix',\n",
    "                          cmap=plt.cm.Blues):\n",
    "    \"\"\"\n",
    "    This function prints and plots the confusion matrix.\n",
    "    Normalization can be applied by setting `normalize=True`.\n",
    "    \"\"\"\n",
    "    plt.imshow(cm, interpolation='nearest', cmap=cmap)\n",
    "    plt.title(title)\n",
    "    plt.colorbar()\n",
    "    tick_marks = np.arange(len(classes))\n",
    "    plt.xticks(tick_marks, classes, rotation=45)\n",
    "    plt.yticks(tick_marks, classes)\n",
    "\n",
    "    if normalize:\n",
    "        cm = cm.astype('float') / cm.sum(axis=1)[:, np.newaxis]\n",
    "        print(\"Normalized confusion matrix\")\n",
    "    else:\n",
    "        print('Confusion matrix, without normalization')\n",
    "\n",
    "    print(cm)\n",
    "\n",
    "    thresh = cm.max() / 2.\n",
    "    for i, j in itertools.product(range(cm.shape[0]), range(cm.shape[1])):\n",
    "        plt.text(j, i, cm[i, j],\n",
    "                 horizontalalignment=\"center\",\n",
    "                 color=\"white\" if cm[i, j] > thresh else \"black\")\n",
    "\n",
    "    plt.tight_layout()\n",
    "    plt.ylabel('True label')\n",
    "    plt.xlabel('Predicted label')"
   ]
  },
  {
   "cell_type": "code",
   "execution_count": 65,
   "id": "coupled-antenna",
   "metadata": {},
   "outputs": [
    {
     "name": "stdout",
     "output_type": "stream",
     "text": [
      "Confusion matrix, without normalization\n",
      "[[10  9  1  0]\n",
      " [ 1 19  0  0]\n",
      " [ 1  0 19  0]\n",
      " [ 0  4  0 16]]\n"
     ]
    },
    {
     "data": {
      "image/png": "[encoded data removed]",
      "text/plain": [
       "<Figure size 432x288 with 2 Axes>"
      ]
     },
     "metadata": {
      "needs_background": "light"
     },
     "output_type": "display_data"
    }
   ],
   "source": [
    "cm_plot_labels = ['covid', 'normal', 'pneumonia', 'tuberculosis']\n",
    "plot_confusion_matrix(cm=cm, classes=cm_plot_labels, title='Confusion Matrix')"
   ]
  },
  {
   "cell_type": "code",
   "execution_count": 66,
   "id": "ecological-resource",
   "metadata": {},
   "outputs": [],
   "source": [
    "from sklearn.metrics import confusion_matrix, classification_report\n",
    "import seaborn as sns"
   ]
  },
  {
   "cell_type": "code",
   "execution_count": 67,
   "id": "fundamental-monday",
   "metadata": {},
   "outputs": [
    {
     "name": "stdout",
     "output_type": "stream",
     "text": [
      "              precision    recall  f1-score   support\n",
      "\n",
      "       covid       0.83      0.50      0.62        20\n",
      "      normal       0.59      0.95      0.73        20\n",
      "   pneumonia       0.95      0.95      0.95        20\n",
      "tuberculosis       1.00      0.80      0.89        20\n",
      "\n",
      "    accuracy                           0.80        80\n",
      "   macro avg       0.84      0.80      0.80        80\n",
      "weighted avg       0.84      0.80      0.80        80\n",
      "\n"
     ]
    }
   ],
   "source": [
    "labels = ['covid', 'normal', 'pneumonia', 'tuberculosis']\n",
    "report = classification_report(validation_dataset.classes, rounded_predictions, target_names=labels)\n",
    "print(report)"
   ]
  },
  {
   "cell_type": "code",
   "execution_count": 68,
   "id": "usual-hotel",
   "metadata": {},
   "outputs": [],
   "source": [
    "weight4 = model4.get_weights()"
   ]
  },
  {
   "cell_type": "code",
   "execution_count": 69,
   "id": "opposed-pickup",
   "metadata": {},
   "outputs": [
    {
     "name": "stdout",
     "output_type": "stream",
     "text": [
      "Saved model to disk\n"
     ]
    }
   ],
   "source": [
    "model_json = model4.to_json()\n",
    "with open(\"model.json\", \"w\") as json_file:\n",
    "    json_file.write(model_json)\n",
    "# serialize weights to HDF5\n",
    "model4.save_weights(\"modelfl41.h5\")\n",
    "print(\"Saved model to disk\")"
   ]
  },
  {
   "cell_type": "code",
   "execution_count": 70,
   "id": "fatal-warrant",
   "metadata": {},
   "outputs": [],
   "source": [
    "#model.set_weights(weight4)"
   ]
  },
  {
   "cell_type": "code",
   "execution_count": 71,
   "id": "forward-complexity",
   "metadata": {},
   "outputs": [],
   "source": [
    "#weight = model.get_weights()"
   ]
  },
  {
   "cell_type": "code",
   "execution_count": 72,
   "id": "broadband-affair",
   "metadata": {},
   "outputs": [
    {
     "name": "stdout",
     "output_type": "stream",
     "text": [
      "Found 400 images belonging to 4 classes.\n",
      "Found 0 images belonging to 0 classes.\n",
      "Found 80 images belonging to 4 classes.\n"
     ]
    }
   ],
   "source": [
    "train_dataset5 = train.flow_from_directory('Dataset5/training/',\n",
    "                                         target_size = (256,256),\n",
    "                                         batch_size = 20,\n",
    "                                         color_mode='grayscale',\n",
    "                                         class_mode = 'categorical',\n",
    "                                         shuffle=False)\n",
    "\n",
    "test_dataset5 = train.flow_from_directory('Dataset5/testing/',\n",
    "                                         target_size = (256,256),\n",
    "                                         batch_size = 20,\n",
    "                                         color_mode='grayscale',\n",
    "                                         class_mode = 'categorical',\n",
    "                                         shuffle=False)\n",
    "\n",
    "validation_dataset5 = train.flow_from_directory('Dataset5/validation/',\n",
    "                                         target_size = (256,256),\n",
    "                                         batch_size = 20,\n",
    "                                         color_mode='grayscale',\n",
    "                                         class_mode = 'categorical',\n",
    "                                         shuffle=False)"
   ]
  },
  {
   "cell_type": "code",
   "execution_count": 73,
   "id": "lonely-acoustic",
   "metadata": {},
   "outputs": [],
   "source": [
    "model5 = tf.keras.models.Sequential([ tf.keras.layers.Conv2D(32,(3,3),activation = 'relu', padding='same', input_shape = (256,256,1)),\n",
    "                                   tf.keras.layers.MaxPool2D(2,2),\n",
    "                                   #\n",
    "                                   tf.keras.layers.Conv2D(64,(3,3),padding='same',activation = 'relu'),\n",
    "                                   tf.keras.layers.MaxPool2D(2,2),\n",
    "                                   #\n",
    "                                   tf.keras.layers.Conv2D(128,(3,3),padding='same',activation = 'relu'),\n",
    "                                   tf.keras.layers.MaxPool2D(2,2),\n",
    "                                   #\n",
    "                                   tf.keras.layers.Conv2D(256,(3,3),padding='same',activation = 'relu'),\n",
    "                                   tf.keras.layers.MaxPool2D(2,2),\n",
    "                                   #\n",
    "                                   tf.keras.layers.Flatten(),\n",
    "                                   ##\n",
    "                                   tf.keras.layers.Dense(128,activation = 'relu'),\n",
    "                                   ##\n",
    "                                   tf.keras.layers.Dense(64,activation = 'relu'),\n",
    "                                   ##\n",
    "                                   tf.keras.layers.Dense(4,activation = 'softmax')\n",
    "                                   ])"
   ]
  },
  {
   "cell_type": "code",
   "execution_count": 74,
   "id": "greek-alberta",
   "metadata": {},
   "outputs": [],
   "source": [
    "#model5.set_weights(weight)"
   ]
  },
  {
   "cell_type": "code",
   "execution_count": 75,
   "id": "closing-offer",
   "metadata": {},
   "outputs": [],
   "source": [
    "model5.compile(loss = 'categorical_crossentropy',\n",
    "             optimizer = RMSprop(learning_rate = 0.001),\n",
    "             metrics = ['accuracy'])"
   ]
  },
  {
   "cell_type": "code",
   "execution_count": 76,
   "id": "racial-capability",
   "metadata": {},
   "outputs": [
    {
     "name": "stdout",
     "output_type": "stream",
     "text": [
      "Epoch 1/30\n",
      "20/20 [==============================] - 49s 2s/step - loss: 2.8061 - accuracy: 0.2825 - val_loss: 1.3848 - val_accuracy: 0.2500\n",
      "Epoch 2/30\n",
      "20/20 [==============================] - 46s 2s/step - loss: 1.4466 - accuracy: 0.2100 - val_loss: 1.4438 - val_accuracy: 0.2500\n",
      "Epoch 3/30\n",
      "20/20 [==============================] - 46s 2s/step - loss: 2.1368 - accuracy: 0.1975 - val_loss: 1.3842 - val_accuracy: 0.2500\n",
      "Epoch 4/30\n",
      "20/20 [==============================] - 46s 2s/step - loss: 1.4324 - accuracy: 0.2750 - val_loss: 1.3775 - val_accuracy: 0.2750\n",
      "Epoch 5/30\n",
      "20/20 [==============================] - 46s 2s/step - loss: 1.4353 - accuracy: 0.2425 - val_loss: 1.3365 - val_accuracy: 0.4625\n",
      "Epoch 6/30\n",
      "20/20 [==============================] - 45s 2s/step - loss: 1.3540 - accuracy: 0.4425 - val_loss: 1.0541 - val_accuracy: 0.4375\n",
      "Epoch 7/30\n",
      "20/20 [==============================] - 42s 2s/step - loss: 1.2544 - accuracy: 0.3525 - val_loss: 1.1196 - val_accuracy: 0.4500\n",
      "Epoch 8/30\n",
      "20/20 [==============================] - 30s 1s/step - loss: 1.1127 - accuracy: 0.4600 - val_loss: 1.0685 - val_accuracy: 0.4500\n",
      "Epoch 9/30\n",
      "20/20 [==============================] - 32s 2s/step - loss: 1.0612 - accuracy: 0.4950 - val_loss: 0.9582 - val_accuracy: 0.5125\n",
      "Epoch 10/30\n",
      "20/20 [==============================] - 30s 2s/step - loss: 1.0184 - accuracy: 0.4925 - val_loss: 0.9371 - val_accuracy: 0.5875\n",
      "Epoch 11/30\n",
      "20/20 [==============================] - 29s 1s/step - loss: 1.0386 - accuracy: 0.6375 - val_loss: 0.8481 - val_accuracy: 0.6000\n",
      "Epoch 12/30\n",
      "20/20 [==============================] - 29s 1s/step - loss: 0.8073 - accuracy: 0.6425 - val_loss: 0.9037 - val_accuracy: 0.6250\n",
      "Epoch 13/30\n",
      "20/20 [==============================] - 29s 1s/step - loss: 0.9135 - accuracy: 0.6600 - val_loss: 0.8856 - val_accuracy: 0.6000\n",
      "Epoch 14/30\n",
      "20/20 [==============================] - 29s 1s/step - loss: 0.7733 - accuracy: 0.6375 - val_loss: 0.8834 - val_accuracy: 0.6250\n",
      "Epoch 15/30\n",
      "20/20 [==============================] - 29s 1s/step - loss: 0.7531 - accuracy: 0.6850 - val_loss: 0.7660 - val_accuracy: 0.6500\n",
      "Epoch 16/30\n",
      "20/20 [==============================] - 29s 1s/step - loss: 0.7646 - accuracy: 0.6925 - val_loss: 0.8267 - val_accuracy: 0.6875\n",
      "Epoch 17/30\n",
      "20/20 [==============================] - 29s 1s/step - loss: 0.6021 - accuracy: 0.7450 - val_loss: 1.3510 - val_accuracy: 0.5375\n",
      "Epoch 18/30\n",
      "20/20 [==============================] - 29s 1s/step - loss: 1.1217 - accuracy: 0.7000 - val_loss: 0.7672 - val_accuracy: 0.6875\n",
      "Epoch 19/30\n",
      "20/20 [==============================] - 28s 1s/step - loss: 0.5235 - accuracy: 0.8125 - val_loss: 0.6791 - val_accuracy: 0.7500\n",
      "Epoch 20/30\n",
      "20/20 [==============================] - 29s 1s/step - loss: 0.5265 - accuracy: 0.7575 - val_loss: 0.6344 - val_accuracy: 0.7125\n",
      "Epoch 21/30\n",
      "20/20 [==============================] - 29s 1s/step - loss: 0.4438 - accuracy: 0.8300 - val_loss: 0.9583 - val_accuracy: 0.6875\n",
      "Epoch 22/30\n",
      "20/20 [==============================] - 29s 1s/step - loss: 0.4623 - accuracy: 0.8100 - val_loss: 0.7759 - val_accuracy: 0.7125\n",
      "Epoch 23/30\n",
      "20/20 [==============================] - 28s 1s/step - loss: 0.3799 - accuracy: 0.8775 - val_loss: 0.9892 - val_accuracy: 0.6750\n",
      "Epoch 24/30\n",
      "20/20 [==============================] - 29s 1s/step - loss: 0.3792 - accuracy: 0.8375 - val_loss: 0.9007 - val_accuracy: 0.7125\n",
      "Epoch 25/30\n",
      "20/20 [==============================] - 29s 1s/step - loss: 0.3043 - accuracy: 0.8700 - val_loss: 0.5857 - val_accuracy: 0.7750\n",
      "Epoch 26/30\n",
      "20/20 [==============================] - 29s 1s/step - loss: 0.1866 - accuracy: 0.9350 - val_loss: 1.3278 - val_accuracy: 0.6750\n",
      "Epoch 27/30\n",
      "20/20 [==============================] - 29s 1s/step - loss: 0.1921 - accuracy: 0.9075 - val_loss: 0.6698 - val_accuracy: 0.6875\n",
      "Epoch 28/30\n",
      "20/20 [==============================] - 29s 1s/step - loss: 0.1829 - accuracy: 0.9175 - val_loss: 1.4441 - val_accuracy: 0.7000\n",
      "Epoch 29/30\n",
      "20/20 [==============================] - 29s 1s/step - loss: 0.1611 - accuracy: 0.9425 - val_loss: 1.5992 - val_accuracy: 0.6875\n",
      "Epoch 30/30\n",
      "20/20 [==============================] - 30s 1s/step - loss: 0.1444 - accuracy: 0.9400 - val_loss: 0.7594 - val_accuracy: 0.7750\n"
     ]
    }
   ],
   "source": [
    "model_fit = model5.fit(train_dataset5,\n",
    "                     steps_per_epoch = 20,\n",
    "                     epochs = 30,\n",
    "                     validation_data = validation_dataset5)"
   ]
  },
  {
   "cell_type": "code",
   "execution_count": null,
   "id": "spread-western",
   "metadata": {},
   "outputs": [],
   "source": []
  },
  {
   "cell_type": "code",
   "execution_count": 77,
   "id": "indoor-colonial",
   "metadata": {},
   "outputs": [],
   "source": [
    "#model1.set_weights(weight5)"
   ]
  },
  {
   "cell_type": "code",
   "execution_count": 78,
   "id": "further-probability",
   "metadata": {},
   "outputs": [
    {
     "name": "stdout",
     "output_type": "stream",
     "text": [
      "4/4 [==============================] - 2s 450ms/step - loss: 0.7466 - accuracy: 0.7750\n"
     ]
    },
    {
     "data": {
      "text/plain": [
       "[0.7466173768043518, 0.7749999761581421]"
      ]
     },
     "execution_count": 78,
     "metadata": {},
     "output_type": "execute_result"
    }
   ],
   "source": [
    "model5.evaluate(validation_dataset5)"
   ]
  },
  {
   "cell_type": "code",
   "execution_count": 79,
   "id": "split-superintendent",
   "metadata": {},
   "outputs": [],
   "source": [
    "predictions = model5.predict(x=validation_dataset5, verbose=0)"
   ]
  },
  {
   "cell_type": "code",
   "execution_count": 80,
   "id": "sunrise-steal",
   "metadata": {},
   "outputs": [],
   "source": [
    "rounded_predictions = np.argmax(predictions, axis=-1)"
   ]
  },
  {
   "cell_type": "code",
   "execution_count": 81,
   "id": "latest-philosophy",
   "metadata": {},
   "outputs": [],
   "source": [
    "cm = confusion_matrix(y_true=validation_dataset5.classes, y_pred=rounded_predictions)"
   ]
  },
  {
   "cell_type": "code",
   "execution_count": 82,
   "id": "resident-metabolism",
   "metadata": {},
   "outputs": [],
   "source": [
    "def plot_confusion_matrix(cm, classes,\n",
    "                          normalize=False,\n",
    "                          title='Confusion matrix',\n",
    "                          cmap=plt.cm.Blues):\n",
    "    \"\"\"\n",
    "    This function prints and plots the confusion matrix.\n",
    "    Normalization can be applied by setting `normalize=True`.\n",
    "    \"\"\"\n",
    "    plt.imshow(cm, interpolation='nearest', cmap=cmap)\n",
    "    plt.title(title)\n",
    "    plt.colorbar()\n",
    "    tick_marks = np.arange(len(classes))\n",
    "    plt.xticks(tick_marks, classes, rotation=45)\n",
    "    plt.yticks(tick_marks, classes)\n",
    "\n",
    "    if normalize:\n",
    "        cm = cm.astype('float') / cm.sum(axis=1)[:, np.newaxis]\n",
    "        print(\"Normalized confusion matrix\")\n",
    "    else:\n",
    "        print('Confusion matrix, without normalization')\n",
    "\n",
    "    print(cm)\n",
    "\n",
    "    thresh = cm.max() / 2.\n",
    "    for i, j in itertools.product(range(cm.shape[0]), range(cm.shape[1])):\n",
    "        plt.text(j, i, cm[i, j],\n",
    "                 horizontalalignment=\"center\",\n",
    "                 color=\"white\" if cm[i, j] > thresh else \"black\")\n",
    "\n",
    "    plt.tight_layout()\n",
    "    plt.ylabel('True label')\n",
    "    plt.xlabel('Predicted label')"
   ]
  },
  {
   "cell_type": "code",
   "execution_count": 83,
   "id": "provincial-count",
   "metadata": {},
   "outputs": [
    {
     "name": "stdout",
     "output_type": "stream",
     "text": [
      "Confusion matrix, without normalization\n",
      "[[17  1  0  2]\n",
      " [ 5 10  0  5]\n",
      " [ 1  0 17  2]\n",
      " [ 0  1  0 19]]\n"
     ]
    },
    {
     "data": {
      "image/png": "[encoded data removed]",
      "text/plain": [
       "<Figure size 432x288 with 2 Axes>"
      ]
     },
     "metadata": {
      "needs_background": "light"
     },
     "output_type": "display_data"
    }
   ],
   "source": [
    "cm_plot_labels = ['covid', 'normal', 'pneumonia', 'tuberculosis']\n",
    "plot_confusion_matrix(cm=cm, classes=cm_plot_labels, title='Confusion Matrix')"
   ]
  },
  {
   "cell_type": "code",
   "execution_count": 84,
   "id": "dated-double",
   "metadata": {},
   "outputs": [],
   "source": [
    "from sklearn.metrics import confusion_matrix, classification_report\n",
    "import seaborn as sns"
   ]
  },
  {
   "cell_type": "code",
   "execution_count": 85,
   "id": "original-trustee",
   "metadata": {},
   "outputs": [
    {
     "name": "stdout",
     "output_type": "stream",
     "text": [
      "              precision    recall  f1-score   support\n",
      "\n",
      "       covid       0.74      0.85      0.79        20\n",
      "      normal       0.83      0.50      0.62        20\n",
      "   pneumonia       1.00      0.85      0.92        20\n",
      "tuberculosis       0.68      0.95      0.79        20\n",
      "\n",
      "    accuracy                           0.79        80\n",
      "   macro avg       0.81      0.79      0.78        80\n",
      "weighted avg       0.81      0.79      0.78        80\n",
      "\n"
     ]
    }
   ],
   "source": [
    "labels = ['covid', 'normal', 'pneumonia', 'tuberculosis']\n",
    "report = classification_report(validation_dataset.classes, rounded_predictions, target_names=labels)\n",
    "print(report)"
   ]
  },
  {
   "cell_type": "code",
   "execution_count": 86,
   "id": "veterinary-benchmark",
   "metadata": {},
   "outputs": [],
   "source": [
    "weight5 = model5.get_weights()"
   ]
  },
  {
   "cell_type": "code",
   "execution_count": 87,
   "id": "drawn-middle",
   "metadata": {},
   "outputs": [
    {
     "name": "stdout",
     "output_type": "stream",
     "text": [
      "Saved model to disk\n"
     ]
    }
   ],
   "source": [
    "model_json = model5.to_json()\n",
    "with open(\"model.json\", \"w\") as json_file:\n",
    "    json_file.write(model_json)\n",
    "# serialize weights to HDF5\n",
    "model5.save_weights(\"modelfl51.h5\")\n",
    "print(\"Saved model to disk\")"
   ]
  },
  {
   "cell_type": "code",
   "execution_count": 88,
   "id": "nutritional-questionnaire",
   "metadata": {},
   "outputs": [
    {
     "name": "stderr",
     "output_type": "stream",
     "text": [
      "C:\\Users\\Hp\\anaconda3\\envs\\Project2\\lib\\site-packages\\ipykernel_launcher.py:1: VisibleDeprecationWarning: Creating an ndarray from ragged nested sequences (which is a list-or-tuple of lists-or-tuples-or ndarrays with different lengths or shapes) is deprecated. If you meant to do this, you must specify 'dtype=object' when creating the ndarray\n",
      "  \"\"\"Entry point for launching an IPython kernel.\n",
      "C:\\Users\\Hp\\anaconda3\\envs\\Project2\\lib\\site-packages\\ipykernel_launcher.py:2: VisibleDeprecationWarning: Creating an ndarray from ragged nested sequences (which is a list-or-tuple of lists-or-tuples-or ndarrays with different lengths or shapes) is deprecated. If you meant to do this, you must specify 'dtype=object' when creating the ndarray\n",
      "  \n",
      "C:\\Users\\Hp\\anaconda3\\envs\\Project2\\lib\\site-packages\\ipykernel_launcher.py:3: VisibleDeprecationWarning: Creating an ndarray from ragged nested sequences (which is a list-or-tuple of lists-or-tuples-or ndarrays with different lengths or shapes) is deprecated. If you meant to do this, you must specify 'dtype=object' when creating the ndarray\n",
      "  This is separate from the ipykernel package so we can avoid doing imports until\n",
      "C:\\Users\\Hp\\anaconda3\\envs\\Project2\\lib\\site-packages\\ipykernel_launcher.py:4: VisibleDeprecationWarning: Creating an ndarray from ragged nested sequences (which is a list-or-tuple of lists-or-tuples-or ndarrays with different lengths or shapes) is deprecated. If you meant to do this, you must specify 'dtype=object' when creating the ndarray\n",
      "  after removing the cwd from sys.path.\n"
     ]
    }
   ],
   "source": [
    "temp1 = np.add(weight1,weight2)\n",
    "temp2 = np.add(temp1,weight3)\n",
    "temp3 = np.add(temp2,weight4)\n",
    "weight = np.add(temp3,weight5) "
   ]
  },
  {
   "cell_type": "code",
   "execution_count": 89,
   "id": "smoking-parade",
   "metadata": {},
   "outputs": [],
   "source": [
    "#weight"
   ]
  },
  {
   "cell_type": "code",
   "execution_count": 90,
   "id": "earned-wrestling",
   "metadata": {},
   "outputs": [],
   "source": [
    "#weight1"
   ]
  },
  {
   "cell_type": "code",
   "execution_count": 91,
   "id": "crucial-chorus",
   "metadata": {},
   "outputs": [],
   "source": [
    "weight = weight/5"
   ]
  },
  {
   "cell_type": "code",
   "execution_count": 92,
   "id": "saving-strain",
   "metadata": {},
   "outputs": [],
   "source": [
    "#weight"
   ]
  },
  {
   "cell_type": "code",
   "execution_count": 93,
   "id": "genuine-button",
   "metadata": {},
   "outputs": [],
   "source": [
    "model_final = tf.keras.models.Sequential([ tf.keras.layers.Conv2D(32,(3,3),activation = 'relu', padding='same', input_shape = (256,256,1)),\n",
    "                                   tf.keras.layers.MaxPool2D(2,2),\n",
    "                                   #\n",
    "                                   tf.keras.layers.Conv2D(64,(3,3),padding='same',activation = 'relu'),\n",
    "                                   tf.keras.layers.MaxPool2D(2,2),\n",
    "                                   #\n",
    "                                   tf.keras.layers.Conv2D(128,(3,3),padding='same',activation = 'relu'),\n",
    "                                   tf.keras.layers.MaxPool2D(2,2),\n",
    "                                   #\n",
    "                                   tf.keras.layers.Conv2D(256,(3,3),padding='same',activation = 'relu'),\n",
    "                                   tf.keras.layers.MaxPool2D(2,2),\n",
    "                                   #\n",
    "                                   tf.keras.layers.Flatten(),\n",
    "                                   ##\n",
    "                                   tf.keras.layers.Dense(128,activation = 'relu'),\n",
    "                                   ##\n",
    "                                   tf.keras.layers.Dense(64,activation = 'relu'),\n",
    "                                   ##\n",
    "                                   tf.keras.layers.Dense(4,activation = 'softmax')\n",
    "                                   ])"
   ]
  },
  {
   "cell_type": "code",
   "execution_count": 94,
   "id": "textile-throat",
   "metadata": {},
   "outputs": [],
   "source": [
    "model_final.set_weights(weight)"
   ]
  },
  {
   "cell_type": "code",
   "execution_count": 95,
   "id": "processed-machine",
   "metadata": {},
   "outputs": [],
   "source": [
    "model_final.compile(loss = 'categorical_crossentropy',\n",
    "             optimizer = RMSprop(learning_rate = 0.001),\n",
    "             metrics = ['accuracy'])"
   ]
  },
  {
   "cell_type": "code",
   "execution_count": 96,
   "id": "nearby-lending",
   "metadata": {},
   "outputs": [
    {
     "name": "stdout",
     "output_type": "stream",
     "text": [
      "4/4 [==============================] - 2s 473ms/step - loss: 1.3867 - accuracy: 0.2500\n",
      "accuracy: 25.00%\n"
     ]
    }
   ],
   "source": [
    "score = model_final.evaluate(validation_dataset5)\n",
    "print(\"%s: %.2f%%\" % (model_final.metrics_names[1], score[1]*100))"
   ]
  },
  {
   "cell_type": "code",
   "execution_count": 97,
   "id": "mobile-respondent",
   "metadata": {},
   "outputs": [],
   "source": [
    "predictions = model_final.predict(x=validation_dataset5, verbose=0)"
   ]
  },
  {
   "cell_type": "code",
   "execution_count": 98,
   "id": "moved-nightlife",
   "metadata": {},
   "outputs": [],
   "source": [
    "rounded_predictions = np.argmax(predictions, axis=-1)"
   ]
  },
  {
   "cell_type": "code",
   "execution_count": 99,
   "id": "standing-blink",
   "metadata": {},
   "outputs": [],
   "source": [
    "cm = confusion_matrix(y_true=validation_dataset5.classes, y_pred=rounded_predictions)"
   ]
  },
  {
   "cell_type": "code",
   "execution_count": 100,
   "id": "immune-joyce",
   "metadata": {},
   "outputs": [],
   "source": [
    "def plot_confusion_matrix(cm, classes,\n",
    "                          normalize=False,\n",
    "                          title='Confusion matrix',\n",
    "                          cmap=plt.cm.Blues):\n",
    "    \"\"\"\n",
    "    This function prints and plots the confusion matrix.\n",
    "    Normalization can be applied by setting `normalize=True`.\n",
    "    \"\"\"\n",
    "    plt.imshow(cm, interpolation='nearest', cmap=cmap)\n",
    "    plt.title(title)\n",
    "    plt.colorbar()\n",
    "    tick_marks = np.arange(len(classes))\n",
    "    plt.xticks(tick_marks, classes, rotation=45)\n",
    "    plt.yticks(tick_marks, classes)\n",
    "\n",
    "    if normalize:\n",
    "        cm = cm.astype('float') / cm.sum(axis=1)[:, np.newaxis]\n",
    "        print(\"Normalized confusion matrix\")\n",
    "    else:\n",
    "        print('Confusion matrix, without normalization')\n",
    "\n",
    "    print(cm)\n",
    "\n",
    "    thresh = cm.max() / 2.\n",
    "    for i, j in itertools.product(range(cm.shape[0]), range(cm.shape[1])):\n",
    "        plt.text(j, i, cm[i, j],\n",
    "                 horizontalalignment=\"center\",\n",
    "                 color=\"white\" if cm[i, j] > thresh else \"black\")\n",
    "\n",
    "    plt.tight_layout()\n",
    "    plt.ylabel('True label')\n",
    "    plt.xlabel('Predicted label')"
   ]
  },
  {
   "cell_type": "code",
   "execution_count": 101,
   "id": "interior-synthesis",
   "metadata": {},
   "outputs": [
    {
     "name": "stdout",
     "output_type": "stream",
     "text": [
      "Confusion matrix, without normalization\n",
      "[[20  0  0  0]\n",
      " [20  0  0  0]\n",
      " [20  0  0  0]\n",
      " [20  0  0  0]]\n"
     ]
    },
    {
     "data": {
      "image/png": "[encoded data removed]",
      "text/plain": [
       "<Figure size 432x288 with 2 Axes>"
      ]
     },
     "metadata": {
      "needs_background": "light"
     },
     "output_type": "display_data"
    }
   ],
   "source": [
    "cm_plot_labels = ['covid', 'normal', 'pneumonia', 'tuberculosis']\n",
    "plot_confusion_matrix(cm=cm, classes=cm_plot_labels, title='Confusion Matrix')"
   ]
  },
  {
   "cell_type": "code",
   "execution_count": 1,
   "id": "limited-sixth",
   "metadata": {},
   "outputs": [
    {
     "name": "stdout",
     "output_type": "stream",
     "text": [
      "Loaded model from disk\n"
     ]
    }
   ],
   "source": [
    "from keras.models import model_from_json\n",
    "\n",
    "# load json and create model\n",
    "json_file = open('model.json', 'r')\n",
    "loaded_model_json = json_file.read()\n",
    "json_file.close()\n",
    "loaded_model1 = model_from_json(loaded_model_json)\n",
    "# load weights into new model\n",
    "loaded_model1.load_weights(\"modelfl11.h5\")\n",
    "print(\"Loaded model from disk\")"
   ]
  },
  {
   "cell_type": "code",
   "execution_count": 4,
   "id": "macro-weather",
   "metadata": {},
   "outputs": [
    {
     "name": "stdout",
     "output_type": "stream",
     "text": [
      "Loaded model from disk\n"
     ]
    }
   ],
   "source": [
    "from keras.models import model_from_json\n",
    "\n",
    "# load json and create model\n",
    "json_file = open('model.json', 'r')\n",
    "loaded_model_json = json_file.read()\n",
    "json_file.close()\n",
    "loaded_model2 = model_from_json(loaded_model_json)\n",
    "# load weights into new model\n",
    "loaded_model2.load_weights(\"modelfl21.h5\")\n",
    "print(\"Loaded model from disk\")"
   ]
  },
  {
   "cell_type": "code",
   "execution_count": 5,
   "id": "thousand-patch",
   "metadata": {},
   "outputs": [
    {
     "name": "stdout",
     "output_type": "stream",
     "text": [
      "Loaded model from disk\n"
     ]
    }
   ],
   "source": [
    "from keras.models import model_from_json\n",
    "\n",
    "# load json and create model\n",
    "json_file = open('model.json', 'r')\n",
    "loaded_model_json = json_file.read()\n",
    "json_file.close()\n",
    "loaded_model3 = model_from_json(loaded_model_json)\n",
    "# load weights into new model\n",
    "loaded_model3.load_weights(\"modelfl31.h5\")\n",
    "print(\"Loaded model from disk\")"
   ]
  },
  {
   "cell_type": "code",
   "execution_count": 6,
   "id": "front-camera",
   "metadata": {},
   "outputs": [
    {
     "name": "stdout",
     "output_type": "stream",
     "text": [
      "Loaded model from disk\n"
     ]
    }
   ],
   "source": [
    "from keras.models import model_from_json\n",
    "\n",
    "# load json and create model\n",
    "json_file = open('model.json', 'r')\n",
    "loaded_model_json = json_file.read()\n",
    "json_file.close()\n",
    "loaded_model4 = model_from_json(loaded_model_json)\n",
    "# load weights into new model\n",
    "loaded_model4.load_weights(\"modelfl41.h5\")\n",
    "print(\"Loaded model from disk\")"
   ]
  },
  {
   "cell_type": "code",
   "execution_count": 7,
   "id": "bizarre-cancer",
   "metadata": {},
   "outputs": [
    {
     "name": "stdout",
     "output_type": "stream",
     "text": [
      "Loaded model from disk\n"
     ]
    }
   ],
   "source": [
    "from keras.models import model_from_json\n",
    "\n",
    "# load json and create model\n",
    "json_file = open('model.json', 'r')\n",
    "loaded_model_json = json_file.read()\n",
    "json_file.close()\n",
    "loaded_model5 = model_from_json(loaded_model_json)\n",
    "# load weights into new model\n",
    "loaded_model5.load_weights(\"modelfl51.h5\")\n",
    "print(\"Loaded model from disk\")"
   ]
  },
  {
   "cell_type": "code",
   "execution_count": 8,
   "id": "muslim-render",
   "metadata": {},
   "outputs": [],
   "source": [
    "all_models2 = list()"
   ]
  },
  {
   "cell_type": "code",
   "execution_count": 9,
   "id": "legal-listening",
   "metadata": {},
   "outputs": [],
   "source": [
    "all_models2.append(loaded_model1)\n",
    "all_models2.append(loaded_model2)\n",
    "all_models2.append(loaded_model3)\n",
    "all_models2.append(loaded_model4)\n",
    "all_models2.append(loaded_model5)"
   ]
  },
  {
   "cell_type": "code",
   "execution_count": 13,
   "id": "bored-thought",
   "metadata": {},
   "outputs": [],
   "source": [
    "from array import array\n",
    "# create a model from the weights of multiple models\n",
    "def model_weight_ensemble(members, weights):\n",
    "    # determine how many layers need to be averaged\n",
    "    n_layers = len(members[0].get_weights())\n",
    "    # create an set of average model weights\n",
    "    avg_model_weights = list()\n",
    "    for layer in range(n_layers):\n",
    "        # collect this layer from each model\n",
    "        layer_weights = array([model.get_weights()[layer] for model in members])\n",
    "        # weighted average of weights for this layer\n",
    "        avg_layer_weights = average(layer_weights, axis=0, weights=weights)\n",
    "        # store average layer weights\n",
    "        avg_model_weights.append(avg_layer_weights)\n",
    "    # create a new model with the same structure\n",
    "    model = clone_model(members[0])\n",
    "    # set the weights in the new\n",
    "    model.set_weights(avg_model_weights)\n",
    "    model.compile(loss='categorical_crossentropy', optimizer='adam', metrics=['accuracy'])\n",
    "    return model"
   ]
  },
  {
   "cell_type": "code",
   "execution_count": 14,
   "id": "impaired-julian",
   "metadata": {
    "scrolled": true
   },
   "outputs": [
    {
     "name": "stdout",
     "output_type": "stream",
     "text": [
      "Loaded 5 models\n"
     ]
    },
    {
     "ename": "TypeError",
     "evalue": "array() argument 1 must be a unicode character, not list",
     "output_type": "error",
     "traceback": [
      "\u001b[1;31m---------------------------------------------------------------------------\u001b[0m",
      "\u001b[1;31mTypeError\u001b[0m                                 Traceback (most recent call last)",
      "\u001b[1;32m<ipython-input-14-3e9451288b47>\u001b[0m in \u001b[0;36m<module>\u001b[1;34m\u001b[0m\n\u001b[0;32m      6\u001b[0m \u001b[0mweights\u001b[0m \u001b[1;33m=\u001b[0m \u001b[1;33m[\u001b[0m\u001b[1;36m1\u001b[0m\u001b[1;33m/\u001b[0m\u001b[0mn_models\u001b[0m \u001b[1;32mfor\u001b[0m \u001b[0mi\u001b[0m \u001b[1;32min\u001b[0m \u001b[0mrange\u001b[0m\u001b[1;33m(\u001b[0m\u001b[1;36m1\u001b[0m\u001b[1;33m,\u001b[0m \u001b[0mn_models\u001b[0m\u001b[1;33m+\u001b[0m\u001b[1;36m1\u001b[0m\u001b[1;33m)\u001b[0m\u001b[1;33m]\u001b[0m\u001b[1;33m\u001b[0m\u001b[1;33m\u001b[0m\u001b[0m\n\u001b[0;32m      7\u001b[0m \u001b[1;31m# create a new model with the weighted average of all model weights\u001b[0m\u001b[1;33m\u001b[0m\u001b[1;33m\u001b[0m\u001b[1;33m\u001b[0m\u001b[0m\n\u001b[1;32m----> 8\u001b[1;33m \u001b[0mmodel\u001b[0m \u001b[1;33m=\u001b[0m \u001b[0mmodel_weight_ensemble\u001b[0m\u001b[1;33m(\u001b[0m\u001b[0mmembers\u001b[0m\u001b[1;33m,\u001b[0m \u001b[0mweights\u001b[0m\u001b[1;33m)\u001b[0m\u001b[1;33m\u001b[0m\u001b[1;33m\u001b[0m\u001b[0m\n\u001b[0m\u001b[0;32m      9\u001b[0m \u001b[1;31m# summarize the created model\u001b[0m\u001b[1;33m\u001b[0m\u001b[1;33m\u001b[0m\u001b[1;33m\u001b[0m\u001b[0m\n\u001b[0;32m     10\u001b[0m \u001b[0mmodel\u001b[0m\u001b[1;33m.\u001b[0m\u001b[0msummary\u001b[0m\u001b[1;33m(\u001b[0m\u001b[1;33m)\u001b[0m\u001b[1;33m\u001b[0m\u001b[1;33m\u001b[0m\u001b[0m\n",
      "\u001b[1;32m<ipython-input-13-6549017a7e65>\u001b[0m in \u001b[0;36mmodel_weight_ensemble\u001b[1;34m(members, weights)\u001b[0m\n\u001b[0;32m      8\u001b[0m     \u001b[1;32mfor\u001b[0m \u001b[0mlayer\u001b[0m \u001b[1;32min\u001b[0m \u001b[0mrange\u001b[0m\u001b[1;33m(\u001b[0m\u001b[0mn_layers\u001b[0m\u001b[1;33m)\u001b[0m\u001b[1;33m:\u001b[0m\u001b[1;33m\u001b[0m\u001b[1;33m\u001b[0m\u001b[0m\n\u001b[0;32m      9\u001b[0m         \u001b[1;31m# collect this layer from each model\u001b[0m\u001b[1;33m\u001b[0m\u001b[1;33m\u001b[0m\u001b[1;33m\u001b[0m\u001b[0m\n\u001b[1;32m---> 10\u001b[1;33m         \u001b[0mlayer_weights\u001b[0m \u001b[1;33m=\u001b[0m \u001b[0marray\u001b[0m\u001b[1;33m(\u001b[0m\u001b[1;33m[\u001b[0m\u001b[0mmodel\u001b[0m\u001b[1;33m.\u001b[0m\u001b[0mget_weights\u001b[0m\u001b[1;33m(\u001b[0m\u001b[1;33m)\u001b[0m\u001b[1;33m[\u001b[0m\u001b[0mlayer\u001b[0m\u001b[1;33m]\u001b[0m \u001b[1;32mfor\u001b[0m \u001b[0mmodel\u001b[0m \u001b[1;32min\u001b[0m \u001b[0mmembers\u001b[0m\u001b[1;33m]\u001b[0m\u001b[1;33m)\u001b[0m\u001b[1;33m\u001b[0m\u001b[1;33m\u001b[0m\u001b[0m\n\u001b[0m\u001b[0;32m     11\u001b[0m         \u001b[1;31m# weighted average of weights for this layer\u001b[0m\u001b[1;33m\u001b[0m\u001b[1;33m\u001b[0m\u001b[1;33m\u001b[0m\u001b[0m\n\u001b[0;32m     12\u001b[0m         \u001b[0mavg_layer_weights\u001b[0m \u001b[1;33m=\u001b[0m \u001b[0maverage\u001b[0m\u001b[1;33m(\u001b[0m\u001b[0mlayer_weights\u001b[0m\u001b[1;33m,\u001b[0m \u001b[0maxis\u001b[0m\u001b[1;33m=\u001b[0m\u001b[1;36m0\u001b[0m\u001b[1;33m,\u001b[0m \u001b[0mweights\u001b[0m\u001b[1;33m=\u001b[0m\u001b[0mweights\u001b[0m\u001b[1;33m)\u001b[0m\u001b[1;33m\u001b[0m\u001b[1;33m\u001b[0m\u001b[0m\n",
      "\u001b[1;31mTypeError\u001b[0m: array() argument 1 must be a unicode character, not list"
     ]
    }
   ],
   "source": [
    "# load all models into memory\n",
    "members = all_models2\n",
    "print('Loaded %d models' % len(members))\n",
    "# prepare an array of equal weights\n",
    "n_models = len(members)\n",
    "weights = [1/n_models for i in range(1, n_models+1)]\n",
    "# create a new model with the weighted average of all model weights\n",
    "model = model_weight_ensemble(members, weights)\n",
    "# summarize the created model\n",
    "model.summary()"
   ]
  },
  {
   "cell_type": "code",
   "execution_count": null,
   "id": "superior-battle",
   "metadata": {},
   "outputs": [],
   "source": [
    "score = model.evaluate(validation_dataset5)\n",
    "print(\"%s: %.2f%%\" % (model.metrics_names[1], score[1]*100))"
   ]
  },
  {
   "cell_type": "code",
   "execution_count": null,
   "id": "referenced-enough",
   "metadata": {},
   "outputs": [],
   "source": [
    "predictions = model.predict(x=validation_dataset5, verbose=0)"
   ]
  },
  {
   "cell_type": "code",
   "execution_count": null,
   "id": "central-encounter",
   "metadata": {},
   "outputs": [],
   "source": [
    "rounded_predictions = np.argmax(predictions, axis=-1)"
   ]
  },
  {
   "cell_type": "code",
   "execution_count": null,
   "id": "political-understanding",
   "metadata": {},
   "outputs": [],
   "source": [
    "cm = confusion_matrix(y_true=validation_dataset5.classes, y_pred=rounded_predictions)"
   ]
  },
  {
   "cell_type": "code",
   "execution_count": null,
   "id": "solved-heaven",
   "metadata": {},
   "outputs": [],
   "source": [
    "def plot_confusion_matrix(cm, classes,\n",
    "                          normalize=False,\n",
    "                          title='Confusion matrix',\n",
    "                          cmap=plt.cm.Blues):\n",
    "    \"\"\"\n",
    "    This function prints and plots the confusion matrix.\n",
    "    Normalization can be applied by setting `normalize=True`.\n",
    "    \"\"\"\n",
    "    plt.imshow(cm, interpolation='nearest', cmap=cmap)\n",
    "    plt.title(title)\n",
    "    plt.colorbar()\n",
    "    tick_marks = np.arange(len(classes))\n",
    "    plt.xticks(tick_marks, classes, rotation=45)\n",
    "    plt.yticks(tick_marks, classes)\n",
    "\n",
    "    if normalize:\n",
    "        cm = cm.astype('float') / cm.sum(axis=1)[:, np.newaxis]\n",
    "        print(\"Normalized confusion matrix\")\n",
    "    else:\n",
    "        print('Confusion matrix, without normalization')\n",
    "\n",
    "    print(cm)\n",
    "\n",
    "    thresh = cm.max() / 2.\n",
    "    for i, j in itertools.product(range(cm.shape[0]), range(cm.shape[1])):\n",
    "        plt.text(j, i, cm[i, j],\n",
    "                 horizontalalignment=\"center\",\n",
    "                 color=\"white\" if cm[i, j] > thresh else \"black\")\n",
    "\n",
    "    plt.tight_layout()\n",
    "    plt.ylabel('True label')\n",
    "    plt.xlabel('Predicted label')"
   ]
  },
  {
   "cell_type": "code",
   "execution_count": null,
   "id": "handled-correction",
   "metadata": {},
   "outputs": [],
   "source": [
    "cm_plot_labels = ['covid', 'normal', 'pneumonia', 'tuberculosis']\n",
    "plot_confusion_matrix(cm=cm, classes=cm_plot_labels, title='Confusion Matrix')"
   ]
  },
  {
   "cell_type": "code",
   "execution_count": null,
   "id": "offshore-thompson",
   "metadata": {},
   "outputs": [],
   "source": []
  }
 ],
 "metadata": {
  "kernelspec": {
   "display_name": "Python 3",
   "language": "python",
   "name": "python3"
  },
  "language_info": {
   "codemirror_mode": {
    "name": "ipython",
    "version": 3
   },
   "file_extension": ".py",
   "mimetype": "text/x-python",
   "name": "python",
   "nbconvert_exporter": "python",
   "pygments_lexer": "ipython3",
   "version": "3.6.12"
  }
 },
 "nbformat": 4,
 "nbformat_minor": 5
}
